{
 "cells": [
  {
   "cell_type": "markdown",
   "metadata": {},
   "source": [
    "# Model Tuning: Grid Search + Pipeline"
   ]
  },
  {
   "cell_type": "code",
   "execution_count": 1,
   "metadata": {
    "ExecuteTime": {
     "end_time": "2021-10-28T04:05:08.822957Z",
     "start_time": "2021-10-28T04:05:08.819534Z"
    }
   },
   "outputs": [],
   "source": [
    "import numpy as np\n",
    "import pandas as pd\n",
    "from matplotlib import pyplot as plt\n",
    "import seaborn as sns\n",
    "from scipy import stats as stats\n",
    "\n",
    "from sklearn.linear_model import LogisticRegression\n",
    "from sklearn.neighbors import KNeighborsClassifier\n",
    "from sklearn.tree import DecisionTreeClassifier\n",
    "\n",
    "from sklearn.metrics import precision_score, recall_score\n",
    "from sklearn.model_selection import train_test_split, GridSearchCV,\\\n",
    "cross_val_score, RandomizedSearchCV\n",
    "\n",
    "from sklearn.preprocessing import OneHotEncoder, StandardScaler\n",
    "from sklearn.impute import SimpleImputer\n",
    "from sklearn.pipeline import Pipeline\n",
    "from sklearn.compose import ColumnTransformer"
   ]
  },
  {
   "cell_type": "markdown",
   "metadata": {
    "heading_collapsed": true
   },
   "source": [
    "# Objectives"
   ]
  },
  {
   "cell_type": "markdown",
   "metadata": {
    "hidden": true
   },
   "source": [
    "- Explain what hyperparameters are\n",
    "- Describe the purpose of grid searching\n",
    "- Implement grid searching for the purposes of model optimization."
   ]
  },
  {
   "cell_type": "markdown",
   "metadata": {
    "heading_collapsed": true
   },
   "source": [
    "# Model Tuning"
   ]
  },
  {
   "cell_type": "markdown",
   "metadata": {
    "hidden": true
   },
   "source": [
    "![](https://imgs.xkcd.com/comics/machine_learning.png)"
   ]
  },
  {
   "cell_type": "markdown",
   "metadata": {
    "heading_collapsed": true,
    "hidden": true
   },
   "source": [
    "## Hyperparameters"
   ]
  },
  {
   "cell_type": "markdown",
   "metadata": {
    "hidden": true
   },
   "source": [
    "Many of the models we have looked at are really *families* of models in the sense that they make use of **hyperparameters**."
   ]
  },
  {
   "cell_type": "markdown",
   "metadata": {
    "hidden": true
   },
   "source": [
    "Thus for example the $k$-nearest-neighbors algorithm allows us to make:\n",
    "\n",
    "- a 1-nearest-neighbor model\n",
    "- a 2-nearest-neighbors model\n",
    "- a 3-nearest-neighbors model\n",
    "- etc."
   ]
  },
  {
   "cell_type": "markdown",
   "metadata": {
    "hidden": true
   },
   "source": [
    "Or, for another example, the decision tree algorithm allows us to make:\n",
    "\n",
    "- a classifier that branches according to information gain\n",
    "- a classifier that branches according to Gini impurity\n",
    "- a regressor that branches according to mean squared error\n",
    "- etc."
   ]
  },
  {
   "cell_type": "markdown",
   "metadata": {
    "hidden": true
   },
   "source": [
    "Depending on the sort of problem and data at hand, it is natural to experiment with different values of these hyperparameters to try to improve model performance."
   ]
  },
  {
   "cell_type": "markdown",
   "metadata": {
    "hidden": true
   },
   "source": [
    "> We can think of these **hyperparameters** as _dials_ of the base model\n",
    "\n",
    "<img width=60% src='images/dials.png'/>"
   ]
  },
  {
   "cell_type": "markdown",
   "metadata": {
    "heading_collapsed": true,
    "hidden": true
   },
   "source": [
    "### Difference from Parametric / Non-Parametric Models"
   ]
  },
  {
   "cell_type": "markdown",
   "metadata": {
    "hidden": true
   },
   "source": [
    "Contrast the notion of hyperparameters with the distinction between parametric and non-parametric models."
   ]
  },
  {
   "cell_type": "markdown",
   "metadata": {
    "hidden": true
   },
   "source": [
    "A linear regression model is parametric in the sense that we start with a given model *form* and we then search for the optimal parameters to fill in that form. But *those* parameters are not the sort we might tweak for the purposes of improving model performance. On the contrary, there is one best set of parameters, and the training of the model is a matter of finding those optimal values."
   ]
  },
  {
   "cell_type": "markdown",
   "metadata": {
    "heading_collapsed": true,
    "hidden": true
   },
   "source": [
    "## Data Example"
   ]
  },
  {
   "cell_type": "markdown",
   "metadata": {
    "hidden": true
   },
   "source": [
    "![Penguins](https://raw.githubusercontent.com/allisonhorst/palmerpenguins/69530276d74b99df81cc385f4e95c644da69ebfa/man/figures/lter_penguins.png)\n",
    "\n",
    "> Images source: @allison_horst [github.com/allisonhorst/penguins](github.com/allisonhorst/penguins)"
   ]
  },
  {
   "cell_type": "code",
   "execution_count": 2,
   "metadata": {
    "ExecuteTime": {
     "end_time": "2021-10-28T03:33:19.245056Z",
     "start_time": "2021-10-28T03:33:19.234933Z"
    },
    "hidden": true
   },
   "outputs": [],
   "source": [
    "penguins = sns.load_dataset('penguins')"
   ]
  },
  {
   "cell_type": "markdown",
   "metadata": {
    "hidden": true
   },
   "source": [
    "![Bill length & depth](https://raw.githubusercontent.com/allisonhorst/palmerpenguins/69530276d74b99df81cc385f4e95c644da69ebfa/man/figures/culmen_depth.png)\n",
    "\n",
    "> Images source: @allison_horst [github.com/allisonhorst/penguins](github.com/allisonhorst/penguins)"
   ]
  },
  {
   "cell_type": "code",
   "execution_count": 3,
   "metadata": {
    "ExecuteTime": {
     "end_time": "2021-10-28T03:33:20.583442Z",
     "start_time": "2021-10-28T03:33:20.566368Z"
    },
    "hidden": true
   },
   "outputs": [
    {
     "data": {
      "text/html": [
       "<div>\n",
       "<style scoped>\n",
       "    .dataframe tbody tr th:only-of-type {\n",
       "        vertical-align: middle;\n",
       "    }\n",
       "\n",
       "    .dataframe tbody tr th {\n",
       "        vertical-align: top;\n",
       "    }\n",
       "\n",
       "    .dataframe thead th {\n",
       "        text-align: right;\n",
       "    }\n",
       "</style>\n",
       "<table border=\"1\" class=\"dataframe\">\n",
       "  <thead>\n",
       "    <tr style=\"text-align: right;\">\n",
       "      <th></th>\n",
       "      <th>species</th>\n",
       "      <th>island</th>\n",
       "      <th>bill_length_mm</th>\n",
       "      <th>bill_depth_mm</th>\n",
       "      <th>flipper_length_mm</th>\n",
       "      <th>body_mass_g</th>\n",
       "      <th>sex</th>\n",
       "    </tr>\n",
       "  </thead>\n",
       "  <tbody>\n",
       "    <tr>\n",
       "      <th>0</th>\n",
       "      <td>Adelie</td>\n",
       "      <td>Torgersen</td>\n",
       "      <td>39.1</td>\n",
       "      <td>18.7</td>\n",
       "      <td>181.0</td>\n",
       "      <td>3750.0</td>\n",
       "      <td>Male</td>\n",
       "    </tr>\n",
       "    <tr>\n",
       "      <th>1</th>\n",
       "      <td>Adelie</td>\n",
       "      <td>Torgersen</td>\n",
       "      <td>39.5</td>\n",
       "      <td>17.4</td>\n",
       "      <td>186.0</td>\n",
       "      <td>3800.0</td>\n",
       "      <td>Female</td>\n",
       "    </tr>\n",
       "    <tr>\n",
       "      <th>2</th>\n",
       "      <td>Adelie</td>\n",
       "      <td>Torgersen</td>\n",
       "      <td>40.3</td>\n",
       "      <td>18.0</td>\n",
       "      <td>195.0</td>\n",
       "      <td>3250.0</td>\n",
       "      <td>Female</td>\n",
       "    </tr>\n",
       "    <tr>\n",
       "      <th>3</th>\n",
       "      <td>Adelie</td>\n",
       "      <td>Torgersen</td>\n",
       "      <td>NaN</td>\n",
       "      <td>NaN</td>\n",
       "      <td>NaN</td>\n",
       "      <td>NaN</td>\n",
       "      <td>NaN</td>\n",
       "    </tr>\n",
       "    <tr>\n",
       "      <th>4</th>\n",
       "      <td>Adelie</td>\n",
       "      <td>Torgersen</td>\n",
       "      <td>36.7</td>\n",
       "      <td>19.3</td>\n",
       "      <td>193.0</td>\n",
       "      <td>3450.0</td>\n",
       "      <td>Female</td>\n",
       "    </tr>\n",
       "  </tbody>\n",
       "</table>\n",
       "</div>"
      ],
      "text/plain": [
       "  species     island  bill_length_mm  bill_depth_mm  flipper_length_mm  \\\n",
       "0  Adelie  Torgersen            39.1           18.7              181.0   \n",
       "1  Adelie  Torgersen            39.5           17.4              186.0   \n",
       "2  Adelie  Torgersen            40.3           18.0              195.0   \n",
       "3  Adelie  Torgersen             NaN            NaN                NaN   \n",
       "4  Adelie  Torgersen            36.7           19.3              193.0   \n",
       "\n",
       "   body_mass_g     sex  \n",
       "0       3750.0    Male  \n",
       "1       3800.0  Female  \n",
       "2       3250.0  Female  \n",
       "3          NaN     NaN  \n",
       "4       3450.0  Female  "
      ]
     },
     "execution_count": 3,
     "metadata": {},
     "output_type": "execute_result"
    }
   ],
   "source": [
    "penguins.head()"
   ]
  },
  {
   "cell_type": "code",
   "execution_count": 4,
   "metadata": {
    "ExecuteTime": {
     "end_time": "2021-10-28T03:33:21.461254Z",
     "start_time": "2021-10-28T03:33:21.450522Z"
    }
   },
   "outputs": [
    {
     "name": "stdout",
     "output_type": "stream",
     "text": [
      "<class 'pandas.core.frame.DataFrame'>\n",
      "RangeIndex: 344 entries, 0 to 343\n",
      "Data columns (total 7 columns):\n",
      " #   Column             Non-Null Count  Dtype  \n",
      "---  ------             --------------  -----  \n",
      " 0   species            344 non-null    object \n",
      " 1   island             344 non-null    object \n",
      " 2   bill_length_mm     342 non-null    float64\n",
      " 3   bill_depth_mm      342 non-null    float64\n",
      " 4   flipper_length_mm  342 non-null    float64\n",
      " 5   body_mass_g        342 non-null    float64\n",
      " 6   sex                333 non-null    object \n",
      "dtypes: float64(4), object(3)\n",
      "memory usage: 18.9+ KB\n"
     ]
    }
   ],
   "source": [
    "penguins.info()"
   ]
  },
  {
   "cell_type": "markdown",
   "metadata": {
    "heading_collapsed": true,
    "hidden": true
   },
   "source": [
    "### Data Prep"
   ]
  },
  {
   "cell_type": "markdown",
   "metadata": {
    "hidden": true
   },
   "source": [
    "We'll try to predict species given the other columns' values. Let's dummy-out `island` and `sex`:"
   ]
  },
  {
   "cell_type": "code",
   "execution_count": 5,
   "metadata": {
    "ExecuteTime": {
     "end_time": "2021-10-28T03:33:22.756858Z",
     "start_time": "2021-10-28T03:33:22.751784Z"
    },
    "hidden": true
   },
   "outputs": [
    {
     "data": {
      "text/plain": [
       "19"
      ]
     },
     "execution_count": 5,
     "metadata": {},
     "output_type": "execute_result"
    }
   ],
   "source": [
    "penguins.isna().sum().sum()"
   ]
  },
  {
   "cell_type": "code",
   "execution_count": 6,
   "metadata": {
    "ExecuteTime": {
     "end_time": "2021-10-28T03:33:23.129535Z",
     "start_time": "2021-10-28T03:33:23.109712Z"
    },
    "hidden": true
   },
   "outputs": [],
   "source": [
    "penguins = penguins.dropna()"
   ]
  },
  {
   "cell_type": "code",
   "execution_count": 7,
   "metadata": {
    "ExecuteTime": {
     "end_time": "2021-10-28T03:33:23.154283Z",
     "start_time": "2021-10-28T03:33:23.151406Z"
    },
    "hidden": true
   },
   "outputs": [
    {
     "data": {
      "text/plain": [
       "0      Adelie\n",
       "1      Adelie\n",
       "2      Adelie\n",
       "4      Adelie\n",
       "5      Adelie\n",
       "        ...  \n",
       "338    Gentoo\n",
       "340    Gentoo\n",
       "341    Gentoo\n",
       "342    Gentoo\n",
       "343    Gentoo\n",
       "Name: species, Length: 333, dtype: object"
      ]
     },
     "execution_count": 7,
     "metadata": {},
     "output_type": "execute_result"
    }
   ],
   "source": [
    "y = penguins.pop('species')\n",
    "y"
   ]
  },
  {
   "cell_type": "code",
   "execution_count": 8,
   "metadata": {
    "ExecuteTime": {
     "end_time": "2021-10-28T03:33:23.343753Z",
     "start_time": "2021-10-28T03:33:23.339442Z"
    },
    "hidden": true
   },
   "outputs": [],
   "source": [
    "# Note we're dedicating a lot of data to the testing set just for demonstrative purposes\n",
    "X_train, X_test, y_train, y_test = train_test_split(\n",
    "    penguins, y, test_size=0.5, random_state=42)"
   ]
  },
  {
   "cell_type": "code",
   "execution_count": 9,
   "metadata": {
    "ExecuteTime": {
     "end_time": "2021-10-28T03:33:23.689260Z",
     "start_time": "2021-10-28T03:33:23.683728Z"
    },
    "hidden": true
   },
   "outputs": [],
   "source": [
    "X_train_cat = X_train.select_dtypes('object')\n",
    "\n",
    "ohe = OneHotEncoder(\n",
    "    drop='first',\n",
    "    sparse=False)\n",
    "\n",
    "dums = ohe.fit_transform(X_train_cat)\n",
    "dums_df = pd.DataFrame(dums,\n",
    "                       columns=ohe.get_feature_names(),\n",
    "                       index=X_train_cat.index)"
   ]
  },
  {
   "cell_type": "code",
   "execution_count": 10,
   "metadata": {
    "ExecuteTime": {
     "end_time": "2021-10-28T03:33:23.749194Z",
     "start_time": "2021-10-28T03:33:23.740492Z"
    }
   },
   "outputs": [
    {
     "data": {
      "text/html": [
       "<div>\n",
       "<style scoped>\n",
       "    .dataframe tbody tr th:only-of-type {\n",
       "        vertical-align: middle;\n",
       "    }\n",
       "\n",
       "    .dataframe tbody tr th {\n",
       "        vertical-align: top;\n",
       "    }\n",
       "\n",
       "    .dataframe thead th {\n",
       "        text-align: right;\n",
       "    }\n",
       "</style>\n",
       "<table border=\"1\" class=\"dataframe\">\n",
       "  <thead>\n",
       "    <tr style=\"text-align: right;\">\n",
       "      <th></th>\n",
       "      <th>x0_Dream</th>\n",
       "      <th>x0_Torgersen</th>\n",
       "      <th>x1_Male</th>\n",
       "    </tr>\n",
       "  </thead>\n",
       "  <tbody>\n",
       "    <tr>\n",
       "      <th>160</th>\n",
       "      <td>1.0</td>\n",
       "      <td>0.0</td>\n",
       "      <td>0.0</td>\n",
       "    </tr>\n",
       "    <tr>\n",
       "      <th>237</th>\n",
       "      <td>0.0</td>\n",
       "      <td>0.0</td>\n",
       "      <td>1.0</td>\n",
       "    </tr>\n",
       "    <tr>\n",
       "      <th>2</th>\n",
       "      <td>0.0</td>\n",
       "      <td>1.0</td>\n",
       "      <td>0.0</td>\n",
       "    </tr>\n",
       "    <tr>\n",
       "      <th>121</th>\n",
       "      <td>0.0</td>\n",
       "      <td>1.0</td>\n",
       "      <td>1.0</td>\n",
       "    </tr>\n",
       "    <tr>\n",
       "      <th>179</th>\n",
       "      <td>1.0</td>\n",
       "      <td>0.0</td>\n",
       "      <td>1.0</td>\n",
       "    </tr>\n",
       "  </tbody>\n",
       "</table>\n",
       "</div>"
      ],
      "text/plain": [
       "     x0_Dream  x0_Torgersen  x1_Male\n",
       "160       1.0           0.0      0.0\n",
       "237       0.0           0.0      1.0\n",
       "2         0.0           1.0      0.0\n",
       "121       0.0           1.0      1.0\n",
       "179       1.0           0.0      1.0"
      ]
     },
     "execution_count": 10,
     "metadata": {},
     "output_type": "execute_result"
    }
   ],
   "source": [
    "dums_df.head()"
   ]
  },
  {
   "cell_type": "code",
   "execution_count": 11,
   "metadata": {
    "ExecuteTime": {
     "end_time": "2021-10-28T03:33:23.903884Z",
     "start_time": "2021-10-28T03:33:23.896009Z"
    },
    "hidden": true
   },
   "outputs": [],
   "source": [
    "X_train_nums = X_train.select_dtypes('float64')\n",
    "\n",
    "ss = StandardScaler()\n",
    "\n",
    "ss.fit(X_train_nums)\n",
    "nums_df = pd.DataFrame(ss.transform(X_train_nums),\n",
    "                      index=X_train_nums.index)"
   ]
  },
  {
   "cell_type": "code",
   "execution_count": 12,
   "metadata": {
    "ExecuteTime": {
     "end_time": "2021-10-28T03:33:24.209621Z",
     "start_time": "2021-10-28T03:33:24.206439Z"
    },
    "hidden": true,
    "scrolled": true
   },
   "outputs": [],
   "source": [
    "X_train_clean = pd.concat([nums_df, dums_df], axis=1)"
   ]
  },
  {
   "cell_type": "code",
   "execution_count": 13,
   "metadata": {
    "ExecuteTime": {
     "end_time": "2021-10-28T03:33:24.632509Z",
     "start_time": "2021-10-28T03:33:24.620549Z"
    },
    "hidden": true
   },
   "outputs": [
    {
     "data": {
      "text/html": [
       "<div>\n",
       "<style scoped>\n",
       "    .dataframe tbody tr th:only-of-type {\n",
       "        vertical-align: middle;\n",
       "    }\n",
       "\n",
       "    .dataframe tbody tr th {\n",
       "        vertical-align: top;\n",
       "    }\n",
       "\n",
       "    .dataframe thead th {\n",
       "        text-align: right;\n",
       "    }\n",
       "</style>\n",
       "<table border=\"1\" class=\"dataframe\">\n",
       "  <thead>\n",
       "    <tr style=\"text-align: right;\">\n",
       "      <th></th>\n",
       "      <th>0</th>\n",
       "      <th>1</th>\n",
       "      <th>2</th>\n",
       "      <th>3</th>\n",
       "      <th>x0_Dream</th>\n",
       "      <th>x0_Torgersen</th>\n",
       "      <th>x1_Male</th>\n",
       "    </tr>\n",
       "  </thead>\n",
       "  <tbody>\n",
       "    <tr>\n",
       "      <th>160</th>\n",
       "      <td>0.362748</td>\n",
       "      <td>0.903276</td>\n",
       "      <td>-0.472344</td>\n",
       "      <td>-0.094599</td>\n",
       "      <td>1.0</td>\n",
       "      <td>0.0</td>\n",
       "      <td>0.0</td>\n",
       "    </tr>\n",
       "    <tr>\n",
       "      <th>237</th>\n",
       "      <td>0.973499</td>\n",
       "      <td>-0.977375</td>\n",
       "      <td>1.408317</td>\n",
       "      <td>2.512546</td>\n",
       "      <td>0.0</td>\n",
       "      <td>0.0</td>\n",
       "      <td>1.0</td>\n",
       "    </tr>\n",
       "    <tr>\n",
       "      <th>2</th>\n",
       "      <td>-0.725152</td>\n",
       "      <td>0.445820</td>\n",
       "      <td>-0.472344</td>\n",
       "      <td>-1.185963</td>\n",
       "      <td>0.0</td>\n",
       "      <td>1.0</td>\n",
       "      <td>0.0</td>\n",
       "    </tr>\n",
       "    <tr>\n",
       "      <th>121</th>\n",
       "      <td>-1.221387</td>\n",
       "      <td>1.360731</td>\n",
       "      <td>-0.255345</td>\n",
       "      <td>-0.882806</td>\n",
       "      <td>0.0</td>\n",
       "      <td>1.0</td>\n",
       "      <td>1.0</td>\n",
       "    </tr>\n",
       "    <tr>\n",
       "      <th>179</th>\n",
       "      <td>1.030757</td>\n",
       "      <td>0.954104</td>\n",
       "      <td>-0.110678</td>\n",
       "      <td>-0.519018</td>\n",
       "      <td>1.0</td>\n",
       "      <td>0.0</td>\n",
       "      <td>1.0</td>\n",
       "    </tr>\n",
       "  </tbody>\n",
       "</table>\n",
       "</div>"
      ],
      "text/plain": [
       "            0         1         2         3  x0_Dream  x0_Torgersen  x1_Male\n",
       "160  0.362748  0.903276 -0.472344 -0.094599       1.0           0.0      0.0\n",
       "237  0.973499 -0.977375  1.408317  2.512546       0.0           0.0      1.0\n",
       "2   -0.725152  0.445820 -0.472344 -1.185963       0.0           1.0      0.0\n",
       "121 -1.221387  1.360731 -0.255345 -0.882806       0.0           1.0      1.0\n",
       "179  1.030757  0.954104 -0.110678 -0.519018       1.0           0.0      1.0"
      ]
     },
     "execution_count": 13,
     "metadata": {},
     "output_type": "execute_result"
    }
   ],
   "source": [
    "X_train_clean.head()"
   ]
  },
  {
   "cell_type": "markdown",
   "metadata": {
    "heading_collapsed": true,
    "hidden": true
   },
   "source": [
    "#### Preparing the Test Set"
   ]
  },
  {
   "cell_type": "code",
   "execution_count": 14,
   "metadata": {
    "ExecuteTime": {
     "end_time": "2021-10-28T03:33:25.300049Z",
     "start_time": "2021-10-28T03:33:25.294945Z"
    },
    "hidden": true
   },
   "outputs": [],
   "source": [
    "X_test_cat = X_test.select_dtypes('object')\n",
    "\n",
    "test_dums = ohe.transform(X_test_cat)\n",
    "test_dums_df = pd.DataFrame(test_dums,\n",
    "                       columns=ohe.get_feature_names(),\n",
    "                      index=X_test_cat.index)"
   ]
  },
  {
   "cell_type": "code",
   "execution_count": 15,
   "metadata": {
    "ExecuteTime": {
     "end_time": "2021-10-28T03:33:25.700016Z",
     "start_time": "2021-10-28T03:33:25.695249Z"
    },
    "hidden": true
   },
   "outputs": [],
   "source": [
    "X_test_nums = X_test.select_dtypes('float64')\n",
    "\n",
    "test_nums = ss.transform(X_test_nums)\n",
    "test_nums_df = pd.DataFrame(test_nums,\n",
    "                           index=X_test_nums.index)"
   ]
  },
  {
   "cell_type": "code",
   "execution_count": 16,
   "metadata": {
    "ExecuteTime": {
     "end_time": "2021-10-28T03:33:25.735115Z",
     "start_time": "2021-10-28T03:33:25.732029Z"
    },
    "hidden": true
   },
   "outputs": [],
   "source": [
    "X_test_clean = pd.concat([test_nums_df,\n",
    "                 test_dums_df], axis=1)"
   ]
  },
  {
   "cell_type": "code",
   "execution_count": 17,
   "metadata": {
    "ExecuteTime": {
     "end_time": "2021-10-28T03:33:25.869137Z",
     "start_time": "2021-10-28T03:33:25.857740Z"
    },
    "hidden": true
   },
   "outputs": [
    {
     "data": {
      "text/html": [
       "<div>\n",
       "<style scoped>\n",
       "    .dataframe tbody tr th:only-of-type {\n",
       "        vertical-align: middle;\n",
       "    }\n",
       "\n",
       "    .dataframe tbody tr th {\n",
       "        vertical-align: top;\n",
       "    }\n",
       "\n",
       "    .dataframe thead th {\n",
       "        text-align: right;\n",
       "    }\n",
       "</style>\n",
       "<table border=\"1\" class=\"dataframe\">\n",
       "  <thead>\n",
       "    <tr style=\"text-align: right;\">\n",
       "      <th></th>\n",
       "      <th>0</th>\n",
       "      <th>1</th>\n",
       "      <th>2</th>\n",
       "      <th>3</th>\n",
       "      <th>x0_Dream</th>\n",
       "      <th>x0_Torgersen</th>\n",
       "      <th>x1_Male</th>\n",
       "    </tr>\n",
       "  </thead>\n",
       "  <tbody>\n",
       "    <tr>\n",
       "      <th>30</th>\n",
       "      <td>-0.877839</td>\n",
       "      <td>-0.214949</td>\n",
       "      <td>-1.702007</td>\n",
       "      <td>-1.185963</td>\n",
       "      <td>1.0</td>\n",
       "      <td>0.0</td>\n",
       "      <td>0.0</td>\n",
       "    </tr>\n",
       "    <tr>\n",
       "      <th>317</th>\n",
       "      <td>0.534522</td>\n",
       "      <td>-1.282345</td>\n",
       "      <td>1.480650</td>\n",
       "      <td>0.784554</td>\n",
       "      <td>0.0</td>\n",
       "      <td>0.0</td>\n",
       "      <td>0.0</td>\n",
       "    </tr>\n",
       "    <tr>\n",
       "      <th>79</th>\n",
       "      <td>-0.381604</td>\n",
       "      <td>1.004932</td>\n",
       "      <td>-0.472344</td>\n",
       "      <td>-0.276493</td>\n",
       "      <td>0.0</td>\n",
       "      <td>1.0</td>\n",
       "      <td>1.0</td>\n",
       "    </tr>\n",
       "    <tr>\n",
       "      <th>201</th>\n",
       "      <td>1.088015</td>\n",
       "      <td>0.090021</td>\n",
       "      <td>-0.255345</td>\n",
       "      <td>-0.670597</td>\n",
       "      <td>1.0</td>\n",
       "      <td>0.0</td>\n",
       "      <td>0.0</td>\n",
       "    </tr>\n",
       "    <tr>\n",
       "      <th>63</th>\n",
       "      <td>-0.572464</td>\n",
       "      <td>0.547477</td>\n",
       "      <td>-0.689343</td>\n",
       "      <td>-0.215862</td>\n",
       "      <td>0.0</td>\n",
       "      <td>0.0</td>\n",
       "      <td>1.0</td>\n",
       "    </tr>\n",
       "  </tbody>\n",
       "</table>\n",
       "</div>"
      ],
      "text/plain": [
       "            0         1         2         3  x0_Dream  x0_Torgersen  x1_Male\n",
       "30  -0.877839 -0.214949 -1.702007 -1.185963       1.0           0.0      0.0\n",
       "317  0.534522 -1.282345  1.480650  0.784554       0.0           0.0      0.0\n",
       "79  -0.381604  1.004932 -0.472344 -0.276493       0.0           1.0      1.0\n",
       "201  1.088015  0.090021 -0.255345 -0.670597       1.0           0.0      0.0\n",
       "63  -0.572464  0.547477 -0.689343 -0.215862       0.0           0.0      1.0"
      ]
     },
     "execution_count": 17,
     "metadata": {},
     "output_type": "execute_result"
    }
   ],
   "source": [
    "X_test_clean.head()"
   ]
  },
  {
   "cell_type": "markdown",
   "metadata": {
    "heading_collapsed": true,
    "hidden": true
   },
   "source": [
    "### Trying Different Models & Values"
   ]
  },
  {
   "cell_type": "markdown",
   "metadata": {
    "heading_collapsed": true,
    "hidden": true
   },
   "source": [
    "#### $k$-Nearest Neighbors Model"
   ]
  },
  {
   "cell_type": "code",
   "execution_count": 18,
   "metadata": {
    "ExecuteTime": {
     "end_time": "2021-10-28T03:33:26.801778Z",
     "start_time": "2021-10-28T03:33:26.794694Z"
    },
    "hidden": true,
    "scrolled": true
   },
   "outputs": [
    {
     "data": {
      "text/plain": [
       "KNeighborsClassifier()"
      ]
     },
     "execution_count": 18,
     "metadata": {},
     "output_type": "execute_result"
    }
   ],
   "source": [
    "knn_model = KNeighborsClassifier()\n",
    "\n",
    "knn_model.fit(X_train_clean, y_train)"
   ]
  },
  {
   "cell_type": "code",
   "execution_count": 19,
   "metadata": {
    "ExecuteTime": {
     "end_time": "2021-10-28T03:33:26.961501Z",
     "start_time": "2021-10-28T03:33:26.895197Z"
    },
    "hidden": true
   },
   "outputs": [
    {
     "data": {
      "text/plain": [
       "array([1.        , 1.        , 1.        , 1.        , 1.        ,\n",
       "       0.94117647, 1.        , 1.        , 1.        , 1.        ])"
      ]
     },
     "execution_count": 19,
     "metadata": {},
     "output_type": "execute_result"
    }
   ],
   "source": [
    "scores = cross_val_score(estimator=knn_model, X=X_train_clean,\n",
    "               y=y_train, cv=10)\n",
    "scores"
   ]
  },
  {
   "cell_type": "code",
   "execution_count": 20,
   "metadata": {
    "ExecuteTime": {
     "end_time": "2021-10-28T03:33:27.122508Z",
     "start_time": "2021-10-28T03:33:27.119125Z"
    },
    "hidden": true
   },
   "outputs": [
    {
     "data": {
      "text/plain": [
       "1.0"
      ]
     },
     "execution_count": 20,
     "metadata": {},
     "output_type": "execute_result"
    }
   ],
   "source": [
    "np.median(scores)"
   ]
  },
  {
   "cell_type": "code",
   "execution_count": 21,
   "metadata": {
    "ExecuteTime": {
     "end_time": "2021-10-28T03:33:27.351936Z",
     "start_time": "2021-10-28T03:33:27.338740Z"
    },
    "hidden": true
   },
   "outputs": [
    {
     "data": {
      "text/plain": [
       "0.9880239520958084"
      ]
     },
     "execution_count": 21,
     "metadata": {},
     "output_type": "execute_result"
    }
   ],
   "source": [
    "knn_model.score(X_test_clean, y_test)"
   ]
  },
  {
   "cell_type": "markdown",
   "metadata": {
    "heading_collapsed": true,
    "hidden": true
   },
   "source": [
    "##### Decreasing $k$"
   ]
  },
  {
   "cell_type": "code",
   "execution_count": 22,
   "metadata": {
    "ExecuteTime": {
     "end_time": "2021-10-28T03:33:27.831023Z",
     "start_time": "2021-10-28T03:33:27.823775Z"
    },
    "hidden": true
   },
   "outputs": [
    {
     "data": {
      "text/plain": [
       "KNeighborsClassifier(n_neighbors=3)"
      ]
     },
     "execution_count": 22,
     "metadata": {},
     "output_type": "execute_result"
    }
   ],
   "source": [
    "knn3 = KNeighborsClassifier(n_neighbors=3)\n",
    "\n",
    "knn3.fit(X_train_clean, y_train)"
   ]
  },
  {
   "cell_type": "code",
   "execution_count": 23,
   "metadata": {
    "ExecuteTime": {
     "end_time": "2021-10-28T03:33:27.877668Z",
     "start_time": "2021-10-28T03:33:27.865783Z"
    },
    "hidden": true
   },
   "outputs": [
    {
     "data": {
      "text/plain": [
       "0.9940119760479041"
      ]
     },
     "execution_count": 23,
     "metadata": {},
     "output_type": "execute_result"
    }
   ],
   "source": [
    "knn3.score(X_test_clean, y_test)"
   ]
  },
  {
   "cell_type": "markdown",
   "metadata": {
    "heading_collapsed": true,
    "hidden": true
   },
   "source": [
    "#### Decision Tree"
   ]
  },
  {
   "cell_type": "code",
   "execution_count": 24,
   "metadata": {
    "ExecuteTime": {
     "end_time": "2021-10-28T03:33:29.217048Z",
     "start_time": "2021-10-28T03:33:29.210785Z"
    },
    "hidden": true
   },
   "outputs": [
    {
     "data": {
      "text/plain": [
       "DecisionTreeClassifier(random_state=10)"
      ]
     },
     "execution_count": 24,
     "metadata": {},
     "output_type": "execute_result"
    }
   ],
   "source": [
    "ct = DecisionTreeClassifier(random_state=10)\n",
    "\n",
    "ct.fit(X_train_clean, y_train)"
   ]
  },
  {
   "cell_type": "code",
   "execution_count": 25,
   "metadata": {
    "ExecuteTime": {
     "end_time": "2021-10-28T03:33:29.257276Z",
     "start_time": "2021-10-28T03:33:29.251732Z"
    },
    "hidden": true
   },
   "outputs": [
    {
     "data": {
      "text/plain": [
       "0.9760479041916168"
      ]
     },
     "execution_count": 25,
     "metadata": {},
     "output_type": "execute_result"
    }
   ],
   "source": [
    "ct.score(X_test_clean, y_test)"
   ]
  },
  {
   "cell_type": "markdown",
   "metadata": {
    "heading_collapsed": true,
    "hidden": true
   },
   "source": [
    "##### Changing the branching criterion"
   ]
  },
  {
   "cell_type": "code",
   "execution_count": 26,
   "metadata": {
    "ExecuteTime": {
     "end_time": "2021-10-28T03:33:29.988524Z",
     "start_time": "2021-10-28T03:33:29.982468Z"
    },
    "hidden": true
   },
   "outputs": [
    {
     "data": {
      "text/plain": [
       "DecisionTreeClassifier(criterion='entropy', random_state=10)"
      ]
     },
     "execution_count": 26,
     "metadata": {},
     "output_type": "execute_result"
    }
   ],
   "source": [
    "ct = DecisionTreeClassifier(criterion='entropy',\n",
    "                          random_state=10)\n",
    "\n",
    "ct.fit(X_train_clean, y_train)"
   ]
  },
  {
   "cell_type": "code",
   "execution_count": 27,
   "metadata": {
    "ExecuteTime": {
     "end_time": "2021-10-28T03:33:30.469779Z",
     "start_time": "2021-10-28T03:33:30.463825Z"
    },
    "hidden": true
   },
   "outputs": [
    {
     "data": {
      "text/plain": [
       "0.9760479041916168"
      ]
     },
     "execution_count": 27,
     "metadata": {},
     "output_type": "execute_result"
    }
   ],
   "source": [
    "ct.score(X_test_clean, y_test)"
   ]
  },
  {
   "cell_type": "markdown",
   "metadata": {
    "heading_collapsed": true
   },
   "source": [
    "# Automatically Searching with Grid Search"
   ]
  },
  {
   "cell_type": "markdown",
   "metadata": {
    "hidden": true
   },
   "source": [
    "It's not a bad idea to experiment with the values of your models' hyperparameters a bit as you're getting a feel for your models' performance. But there are more systematic ways of going about the search for optimal hyperparameters. One method of hyperparameter tuning is **grid searching**. "
   ]
  },
  {
   "cell_type": "markdown",
   "metadata": {
    "hidden": true
   },
   "source": [
    "The idea is to build multiple models with different hyperparameter values and then see which one performs the best. The hyperparameters and the values to try form a sort of *grid* along which we are looking for the best performance. For example:\n",
    "\n",
    "\n",
    "    1           | 'minkowski' | 'uniform'\n",
    "    3           | 'manhattan' | 'distance'\n",
    "    5           |\n",
    "    ______________________________________\n",
    "    n_neighbors | metric      | weights"
   ]
  },
  {
   "cell_type": "markdown",
   "metadata": {
    "hidden": true
   },
   "source": [
    "Scikit-Learn has a [`GridSearchCV`](https://scikit-learn.org/stable/modules/generated/sklearn.model_selection.GridSearchCV.html) class whose `fit()` method runs this procedure. Note that this can be quite computationally expensive since:\n",
    "\n",
    "- A model is constructed for each combination of hyperparameter values that we input; and\n",
    "- Each model is cross-validated."
   ]
  },
  {
   "cell_type": "code",
   "execution_count": 38,
   "metadata": {},
   "outputs": [
    {
     "data": {
      "text/plain": [
       "60"
      ]
     },
     "execution_count": 38,
     "metadata": {},
     "output_type": "execute_result"
    }
   ],
   "source": [
    "#number of models:\n",
    "3 * 2 * 2 * 5 #the number of CV folds is 5!"
   ]
  },
  {
   "cell_type": "markdown",
   "metadata": {
    "heading_collapsed": true,
    "hidden": true
   },
   "source": [
    "### `GridSearchCV`"
   ]
  },
  {
   "cell_type": "code",
   "execution_count": 37,
   "metadata": {
    "ExecuteTime": {
     "end_time": "2021-10-28T03:33:34.611150Z",
     "start_time": "2021-10-28T03:33:34.608300Z"
    },
    "hidden": true
   },
   "outputs": [],
   "source": [
    "# Define the parameter grid\n",
    "\n",
    "grid = {'n_neighbors': [1, 3, 5],\n",
    "     'metric': ['minkowski', 'manhattan'],\n",
    "     'weights': ['uniform', 'distance']}"
   ]
  },
  {
   "cell_type": "markdown",
   "metadata": {
    "hidden": true
   },
   "source": [
    "**Question: How many models will we be constructing with this grid?**"
   ]
  },
  {
   "cell_type": "code",
   "execution_count": 47,
   "metadata": {
    "ExecuteTime": {
     "end_time": "2021-10-28T03:33:35.802959Z",
     "start_time": "2021-10-28T03:33:35.800647Z"
    },
    "hidden": true
   },
   "outputs": [],
   "source": [
    "# Initialize the grid search object with five-fold cross-validation\n",
    "\n",
    "gs = GridSearchCV(estimator=knn_model, param_grid=grid, verbose=2)"
   ]
  },
  {
   "cell_type": "code",
   "execution_count": 48,
   "metadata": {
    "ExecuteTime": {
     "end_time": "2021-10-28T03:33:38.433413Z",
     "start_time": "2021-10-28T03:33:38.076112Z"
    },
    "hidden": true
   },
   "outputs": [
    {
     "name": "stdout",
     "output_type": "stream",
     "text": [
      "Fitting 5 folds for each of 12 candidates, totalling 60 fits\n",
      "[CV] metric=minkowski, n_neighbors=1, weights=uniform ................\n",
      "[CV] . metric=minkowski, n_neighbors=1, weights=uniform, total=   0.0s\n",
      "[CV] metric=minkowski, n_neighbors=1, weights=uniform ................\n",
      "[CV] . metric=minkowski, n_neighbors=1, weights=uniform, total=   0.0s\n",
      "[CV] metric=minkowski, n_neighbors=1, weights=uniform ................\n",
      "[CV] . metric=minkowski, n_neighbors=1, weights=uniform, total=   0.0s\n",
      "[CV] metric=minkowski, n_neighbors=1, weights=uniform ................\n",
      "[CV] . metric=minkowski, n_neighbors=1, weights=uniform, total=   0.0s\n",
      "[CV] metric=minkowski, n_neighbors=1, weights=uniform ................\n",
      "[CV] . metric=minkowski, n_neighbors=1, weights=uniform, total=   0.0s\n",
      "[CV] metric=minkowski, n_neighbors=1, weights=distance ...............\n",
      "[CV]  metric=minkowski, n_neighbors=1, weights=distance, total=   0.0s\n",
      "[CV] metric=minkowski, n_neighbors=1, weights=distance ...............\n",
      "[CV]  metric=minkowski, n_neighbors=1, weights=distance, total=   0.0s\n",
      "[CV] metric=minkowski, n_neighbors=1, weights=distance ...............\n",
      "[CV]  metric=minkowski, n_neighbors=1, weights=distance, total=   0.0s\n",
      "[CV] metric=minkowski, n_neighbors=1, weights=distance ...............\n",
      "[CV]  metric=minkowski, n_neighbors=1, weights=distance, total=   0.0s\n",
      "[CV] metric=minkowski, n_neighbors=1, weights=distance ...............\n",
      "[CV]  metric=minkowski, n_neighbors=1, weights=distance, total=   0.0s\n",
      "[CV] metric=minkowski, n_neighbors=3, weights=uniform ................\n",
      "[CV] . metric=minkowski, n_neighbors=3, weights=uniform, total=   0.0s\n",
      "[CV] metric=minkowski, n_neighbors=3, weights=uniform ................\n",
      "[CV] . metric=minkowski, n_neighbors=3, weights=uniform, total=   0.0s\n",
      "[CV] metric=minkowski, n_neighbors=3, weights=uniform ................\n",
      "[CV] . metric=minkowski, n_neighbors=3, weights=uniform, total=   0.0s\n",
      "[CV] metric=minkowski, n_neighbors=3, weights=uniform ................\n",
      "[CV] . metric=minkowski, n_neighbors=3, weights=uniform, total=   0.0s\n",
      "[CV] metric=minkowski, n_neighbors=3, weights=uniform ................\n",
      "[CV] . metric=minkowski, n_neighbors=3, weights=uniform, total=   0.0s\n",
      "[CV] metric=minkowski, n_neighbors=3, weights=distance ...............\n",
      "[CV]  metric=minkowski, n_neighbors=3, weights=distance, total=   0.0s\n",
      "[CV] metric=minkowski, n_neighbors=3, weights=distance ...............\n",
      "[CV]  metric=minkowski, n_neighbors=3, weights=distance, total=   0.0s\n",
      "[CV] metric=minkowski, n_neighbors=3, weights=distance ...............\n",
      "[CV]  metric=minkowski, n_neighbors=3, weights=distance, total=   0.0s\n",
      "[CV] metric=minkowski, n_neighbors=3, weights=distance ...............\n",
      "[CV]  metric=minkowski, n_neighbors=3, weights=distance, total=   0.0s\n",
      "[CV] metric=minkowski, n_neighbors=3, weights=distance ...............\n",
      "[CV]  metric=minkowski, n_neighbors=3, weights=distance, total=   0.0s\n",
      "[CV] metric=minkowski, n_neighbors=5, weights=uniform ................\n",
      "[CV] . metric=minkowski, n_neighbors=5, weights=uniform, total=   0.0s\n",
      "[CV] metric=minkowski, n_neighbors=5, weights=uniform ................\n",
      "[CV] . metric=minkowski, n_neighbors=5, weights=uniform, total=   0.0s\n",
      "[CV] metric=minkowski, n_neighbors=5, weights=uniform ................\n",
      "[CV] . metric=minkowski, n_neighbors=5, weights=uniform, total=   0.0s\n",
      "[CV] metric=minkowski, n_neighbors=5, weights=uniform ................\n",
      "[CV] . metric=minkowski, n_neighbors=5, weights=uniform, total=   0.0s\n",
      "[CV] metric=minkowski, n_neighbors=5, weights=uniform ................\n",
      "[CV] . metric=minkowski, n_neighbors=5, weights=uniform, total=   0.0s\n",
      "[CV] metric=minkowski, n_neighbors=5, weights=distance ...............\n",
      "[CV]  metric=minkowski, n_neighbors=5, weights=distance, total=   0.0s\n",
      "[CV] metric=minkowski, n_neighbors=5, weights=distance ...............\n",
      "[CV]  metric=minkowski, n_neighbors=5, weights=distance, total=   0.0s\n",
      "[CV] metric=minkowski, n_neighbors=5, weights=distance ...............\n",
      "[CV]  metric=minkowski, n_neighbors=5, weights=distance, total=   0.0s\n",
      "[CV] metric=minkowski, n_neighbors=5, weights=distance ...............\n",
      "[CV]  metric=minkowski, n_neighbors=5, weights=distance, total=   0.0s\n",
      "[CV] metric=minkowski, n_neighbors=5, weights=distance ...............\n",
      "[CV]  metric=minkowski, n_neighbors=5, weights=distance, total=   0.0s\n",
      "[CV] metric=manhattan, n_neighbors=1, weights=uniform ................\n",
      "[CV] . metric=manhattan, n_neighbors=1, weights=uniform, total=   0.0s\n",
      "[CV] metric=manhattan, n_neighbors=1, weights=uniform ................\n",
      "[CV] . metric=manhattan, n_neighbors=1, weights=uniform, total=   0.0s\n",
      "[CV] metric=manhattan, n_neighbors=1, weights=uniform ................\n",
      "[CV] . metric=manhattan, n_neighbors=1, weights=uniform, total=   0.0s\n",
      "[CV] metric=manhattan, n_neighbors=1, weights=uniform ................\n",
      "[CV] . metric=manhattan, n_neighbors=1, weights=uniform, total=   0.0s\n",
      "[CV] metric=manhattan, n_neighbors=1, weights=uniform ................\n",
      "[CV] . metric=manhattan, n_neighbors=1, weights=uniform, total=   0.0s\n",
      "[CV] metric=manhattan, n_neighbors=1, weights=distance ...............\n",
      "[CV]  metric=manhattan, n_neighbors=1, weights=distance, total=   0.0s\n",
      "[CV] metric=manhattan, n_neighbors=1, weights=distance ...............\n",
      "[CV]  metric=manhattan, n_neighbors=1, weights=distance, total=   0.0s\n",
      "[CV] metric=manhattan, n_neighbors=1, weights=distance ...............\n",
      "[CV]  metric=manhattan, n_neighbors=1, weights=distance, total=   0.0s\n",
      "[CV] metric=manhattan, n_neighbors=1, weights=distance ...............\n",
      "[CV]  metric=manhattan, n_neighbors=1, weights=distance, total=   0.0s\n",
      "[CV] metric=manhattan, n_neighbors=1, weights=distance ...............\n",
      "[CV]  metric=manhattan, n_neighbors=1, weights=distance, total=   0.0s\n",
      "[CV] metric=manhattan, n_neighbors=3, weights=uniform ................\n",
      "[CV] . metric=manhattan, n_neighbors=3, weights=uniform, total=   0.0s\n",
      "[CV] metric=manhattan, n_neighbors=3, weights=uniform ................\n",
      "[CV] . metric=manhattan, n_neighbors=3, weights=uniform, total=   0.0s\n",
      "[CV] metric=manhattan, n_neighbors=3, weights=uniform ................\n",
      "[CV] . metric=manhattan, n_neighbors=3, weights=uniform, total=   0.0s\n",
      "[CV] metric=manhattan, n_neighbors=3, weights=uniform ................\n",
      "[CV] . metric=manhattan, n_neighbors=3, weights=uniform, total=   0.0s\n",
      "[CV] metric=manhattan, n_neighbors=3, weights=uniform ................\n",
      "[CV] . metric=manhattan, n_neighbors=3, weights=uniform, total=   0.0s\n",
      "[CV] metric=manhattan, n_neighbors=3, weights=distance ...............\n",
      "[CV]  metric=manhattan, n_neighbors=3, weights=distance, total=   0.0s\n",
      "[CV] metric=manhattan, n_neighbors=3, weights=distance ...............\n",
      "[CV]  metric=manhattan, n_neighbors=3, weights=distance, total=   0.0s\n",
      "[CV] metric=manhattan, n_neighbors=3, weights=distance ...............\n",
      "[CV]  metric=manhattan, n_neighbors=3, weights=distance, total=   0.0s\n",
      "[CV] metric=manhattan, n_neighbors=3, weights=distance ...............\n",
      "[CV]  metric=manhattan, n_neighbors=3, weights=distance, total=   0.0s\n",
      "[CV] metric=manhattan, n_neighbors=3, weights=distance ...............\n",
      "[CV]  metric=manhattan, n_neighbors=3, weights=distance, total=   0.0s\n",
      "[CV] metric=manhattan, n_neighbors=5, weights=uniform ................\n",
      "[CV] . metric=manhattan, n_neighbors=5, weights=uniform, total=   0.0s\n",
      "[CV] metric=manhattan, n_neighbors=5, weights=uniform ................\n",
      "[CV] . metric=manhattan, n_neighbors=5, weights=uniform, total=   0.0s\n",
      "[CV] metric=manhattan, n_neighbors=5, weights=uniform ................\n",
      "[CV] . metric=manhattan, n_neighbors=5, weights=uniform, total=   0.0s\n",
      "[CV] metric=manhattan, n_neighbors=5, weights=uniform ................\n",
      "[CV] . metric=manhattan, n_neighbors=5, weights=uniform, total=   0.0s\n",
      "[CV] metric=manhattan, n_neighbors=5, weights=uniform ................\n"
     ]
    },
    {
     "name": "stderr",
     "output_type": "stream",
     "text": [
      "[Parallel(n_jobs=1)]: Using backend SequentialBackend with 1 concurrent workers.\n",
      "[Parallel(n_jobs=1)]: Done   1 out of   1 | elapsed:    0.0s remaining:    0.0s\n"
     ]
    },
    {
     "name": "stdout",
     "output_type": "stream",
     "text": [
      "[CV] . metric=manhattan, n_neighbors=5, weights=uniform, total=   0.0s\n",
      "[CV] metric=manhattan, n_neighbors=5, weights=distance ...............\n",
      "[CV]  metric=manhattan, n_neighbors=5, weights=distance, total=   0.0s\n",
      "[CV] metric=manhattan, n_neighbors=5, weights=distance ...............\n",
      "[CV]  metric=manhattan, n_neighbors=5, weights=distance, total=   0.0s\n",
      "[CV] metric=manhattan, n_neighbors=5, weights=distance ...............\n",
      "[CV]  metric=manhattan, n_neighbors=5, weights=distance, total=   0.0s\n",
      "[CV] metric=manhattan, n_neighbors=5, weights=distance ...............\n",
      "[CV]  metric=manhattan, n_neighbors=5, weights=distance, total=   0.0s\n",
      "[CV] metric=manhattan, n_neighbors=5, weights=distance ...............\n",
      "[CV]  metric=manhattan, n_neighbors=5, weights=distance, total=   0.0s\n"
     ]
    },
    {
     "name": "stderr",
     "output_type": "stream",
     "text": [
      "[Parallel(n_jobs=1)]: Done  60 out of  60 | elapsed:    0.2s finished\n"
     ]
    },
    {
     "data": {
      "text/plain": [
       "GridSearchCV(estimator=KNeighborsClassifier(),\n",
       "             param_grid={'metric': ['minkowski', 'manhattan'],\n",
       "                         'n_neighbors': [1, 3, 5],\n",
       "                         'weights': ['uniform', 'distance']},\n",
       "             verbose=2)"
      ]
     },
     "execution_count": 48,
     "metadata": {},
     "output_type": "execute_result"
    }
   ],
   "source": [
    "gs.fit(X_train_clean, y_train)"
   ]
  },
  {
   "cell_type": "code",
   "execution_count": 49,
   "metadata": {
    "ExecuteTime": {
     "end_time": "2021-10-28T03:33:38.438408Z",
     "start_time": "2021-10-28T03:33:38.435309Z"
    },
    "hidden": true
   },
   "outputs": [
    {
     "data": {
      "text/plain": [
       "{'metric': 'minkowski', 'n_neighbors': 1, 'weights': 'uniform'}"
      ]
     },
     "execution_count": 49,
     "metadata": {},
     "output_type": "execute_result"
    }
   ],
   "source": [
    "gs.best_params_"
   ]
  },
  {
   "cell_type": "code",
   "execution_count": 50,
   "metadata": {
    "ExecuteTime": {
     "end_time": "2021-10-28T03:33:38.739396Z",
     "start_time": "2021-10-28T03:33:38.736044Z"
    },
    "hidden": true
   },
   "outputs": [
    {
     "data": {
      "text/plain": [
       "0.9939393939393939"
      ]
     },
     "execution_count": 50,
     "metadata": {},
     "output_type": "execute_result"
    }
   ],
   "source": [
    "gs.best_score_"
   ]
  },
  {
   "cell_type": "code",
   "execution_count": 56,
   "metadata": {},
   "outputs": [
    {
     "data": {
      "text/plain": [
       "KNeighborsClassifier(n_neighbors=1)"
      ]
     },
     "execution_count": 56,
     "metadata": {},
     "output_type": "execute_result"
    }
   ],
   "source": [
    "gs.best_estimator_"
   ]
  },
  {
   "cell_type": "code",
   "execution_count": 52,
   "metadata": {
    "ExecuteTime": {
     "end_time": "2021-10-28T03:33:40.999187Z",
     "start_time": "2021-10-28T03:33:40.984761Z"
    },
    "hidden": true,
    "scrolled": true
   },
   "outputs": [
    {
     "data": {
      "text/plain": [
       "0.9940119760479041"
      ]
     },
     "execution_count": 52,
     "metadata": {},
     "output_type": "execute_result"
    }
   ],
   "source": [
    "gs.best_estimator_.score(X_test_clean, y_test)"
   ]
  },
  {
   "cell_type": "code",
   "execution_count": 53,
   "metadata": {
    "ExecuteTime": {
     "end_time": "2021-10-28T03:33:41.214030Z",
     "start_time": "2021-10-28T03:33:41.205532Z"
    },
    "hidden": true
   },
   "outputs": [],
   "source": [
    "final_model = gs.best_index_"
   ]
  },
  {
   "cell_type": "code",
   "execution_count": 55,
   "metadata": {
    "scrolled": true
   },
   "outputs": [
    {
     "data": {
      "text/plain": [
       "{'mean_fit_time': array([0.00401988, 0.00173974, 0.00129504, 0.00107069, 0.00115552,\n",
       "        0.00107384, 0.0010385 , 0.00103502, 0.00104098, 0.00103645,\n",
       "        0.00103974, 0.00116763]),\n",
       " 'std_fit_time': array([2.92077825e-03, 2.06950238e-04, 1.49069576e-04, 1.32757836e-05,\n",
       "        5.72104445e-05, 3.95291965e-05, 7.57465994e-06, 1.12440588e-05,\n",
       "        1.42265387e-05, 1.25684362e-05, 9.18205635e-06, 1.73585925e-04]),\n",
       " 'mean_score_time': array([0.00504818, 0.00192699, 0.00234523, 0.00113425, 0.00178246,\n",
       "        0.00115452, 0.00170836, 0.00108795, 0.00170197, 0.00110812,\n",
       "        0.00174689, 0.0013392 ]),\n",
       " 'std_score_time': array([2.61863604e-03, 2.71952050e-04, 3.22477380e-04, 7.53453410e-05,\n",
       "        3.59075794e-05, 3.14346013e-05, 9.13501774e-05, 3.39732337e-05,\n",
       "        4.10560947e-05, 6.21243975e-06, 1.04325279e-04, 1.90291306e-04]),\n",
       " 'param_metric': masked_array(data=['minkowski', 'minkowski', 'minkowski', 'minkowski',\n",
       "                    'minkowski', 'minkowski', 'manhattan', 'manhattan',\n",
       "                    'manhattan', 'manhattan', 'manhattan', 'manhattan'],\n",
       "              mask=[False, False, False, False, False, False, False, False,\n",
       "                    False, False, False, False],\n",
       "        fill_value='?',\n",
       "             dtype=object),\n",
       " 'param_n_neighbors': masked_array(data=[1, 1, 3, 3, 5, 5, 1, 1, 3, 3, 5, 5],\n",
       "              mask=[False, False, False, False, False, False, False, False,\n",
       "                    False, False, False, False],\n",
       "        fill_value='?',\n",
       "             dtype=object),\n",
       " 'param_weights': masked_array(data=['uniform', 'distance', 'uniform', 'distance',\n",
       "                    'uniform', 'distance', 'uniform', 'distance',\n",
       "                    'uniform', 'distance', 'uniform', 'distance'],\n",
       "              mask=[False, False, False, False, False, False, False, False,\n",
       "                    False, False, False, False],\n",
       "        fill_value='?',\n",
       "             dtype=object),\n",
       " 'params': [{'metric': 'minkowski', 'n_neighbors': 1, 'weights': 'uniform'},\n",
       "  {'metric': 'minkowski', 'n_neighbors': 1, 'weights': 'distance'},\n",
       "  {'metric': 'minkowski', 'n_neighbors': 3, 'weights': 'uniform'},\n",
       "  {'metric': 'minkowski', 'n_neighbors': 3, 'weights': 'distance'},\n",
       "  {'metric': 'minkowski', 'n_neighbors': 5, 'weights': 'uniform'},\n",
       "  {'metric': 'minkowski', 'n_neighbors': 5, 'weights': 'distance'},\n",
       "  {'metric': 'manhattan', 'n_neighbors': 1, 'weights': 'uniform'},\n",
       "  {'metric': 'manhattan', 'n_neighbors': 1, 'weights': 'distance'},\n",
       "  {'metric': 'manhattan', 'n_neighbors': 3, 'weights': 'uniform'},\n",
       "  {'metric': 'manhattan', 'n_neighbors': 3, 'weights': 'distance'},\n",
       "  {'metric': 'manhattan', 'n_neighbors': 5, 'weights': 'uniform'},\n",
       "  {'metric': 'manhattan', 'n_neighbors': 5, 'weights': 'distance'}],\n",
       " 'split0_test_score': array([1., 1., 1., 1., 1., 1., 1., 1., 1., 1., 1., 1.]),\n",
       " 'split1_test_score': array([1., 1., 1., 1., 1., 1., 1., 1., 1., 1., 1., 1.]),\n",
       " 'split2_test_score': array([0.96969697, 0.96969697, 0.96969697, 0.96969697, 0.96969697,\n",
       "        0.96969697, 0.96969697, 0.96969697, 0.96969697, 0.96969697,\n",
       "        0.96969697, 0.96969697]),\n",
       " 'split3_test_score': array([1., 1., 1., 1., 1., 1., 1., 1., 1., 1., 1., 1.]),\n",
       " 'split4_test_score': array([1., 1., 1., 1., 1., 1., 1., 1., 1., 1., 1., 1.]),\n",
       " 'mean_test_score': array([0.99393939, 0.99393939, 0.99393939, 0.99393939, 0.99393939,\n",
       "        0.99393939, 0.99393939, 0.99393939, 0.99393939, 0.99393939,\n",
       "        0.99393939, 0.99393939]),\n",
       " 'std_test_score': array([0.01212121, 0.01212121, 0.01212121, 0.01212121, 0.01212121,\n",
       "        0.01212121, 0.01212121, 0.01212121, 0.01212121, 0.01212121,\n",
       "        0.01212121, 0.01212121]),\n",
       " 'rank_test_score': array([1, 1, 1, 1, 1, 1, 1, 1, 1, 1, 1, 1], dtype=int32)}"
      ]
     },
     "execution_count": 55,
     "metadata": {},
     "output_type": "execute_result"
    }
   ],
   "source": [
    "gs.cv_results_"
   ]
  },
  {
   "cell_type": "code",
   "execution_count": 54,
   "metadata": {
    "ExecuteTime": {
     "end_time": "2021-10-28T03:33:41.818645Z",
     "start_time": "2021-10-28T03:33:41.790982Z"
    },
    "hidden": true
   },
   "outputs": [
    {
     "data": {
      "text/html": [
       "<div>\n",
       "<style scoped>\n",
       "    .dataframe tbody tr th:only-of-type {\n",
       "        vertical-align: middle;\n",
       "    }\n",
       "\n",
       "    .dataframe tbody tr th {\n",
       "        vertical-align: top;\n",
       "    }\n",
       "\n",
       "    .dataframe thead th {\n",
       "        text-align: right;\n",
       "    }\n",
       "</style>\n",
       "<table border=\"1\" class=\"dataframe\">\n",
       "  <thead>\n",
       "    <tr style=\"text-align: right;\">\n",
       "      <th></th>\n",
       "      <th>mean_fit_time</th>\n",
       "      <th>std_fit_time</th>\n",
       "      <th>mean_score_time</th>\n",
       "      <th>std_score_time</th>\n",
       "      <th>param_metric</th>\n",
       "      <th>param_n_neighbors</th>\n",
       "      <th>param_weights</th>\n",
       "      <th>params</th>\n",
       "      <th>split0_test_score</th>\n",
       "      <th>split1_test_score</th>\n",
       "      <th>split2_test_score</th>\n",
       "      <th>split3_test_score</th>\n",
       "      <th>split4_test_score</th>\n",
       "      <th>mean_test_score</th>\n",
       "      <th>std_test_score</th>\n",
       "      <th>rank_test_score</th>\n",
       "    </tr>\n",
       "  </thead>\n",
       "  <tbody>\n",
       "    <tr>\n",
       "      <th>0</th>\n",
       "      <td>0.004020</td>\n",
       "      <td>0.002921</td>\n",
       "      <td>0.005048</td>\n",
       "      <td>0.002619</td>\n",
       "      <td>minkowski</td>\n",
       "      <td>1</td>\n",
       "      <td>uniform</td>\n",
       "      <td>{'metric': 'minkowski', 'n_neighbors': 1, 'wei...</td>\n",
       "      <td>1.0</td>\n",
       "      <td>1.0</td>\n",
       "      <td>0.969697</td>\n",
       "      <td>1.0</td>\n",
       "      <td>1.0</td>\n",
       "      <td>0.993939</td>\n",
       "      <td>0.012121</td>\n",
       "      <td>1</td>\n",
       "    </tr>\n",
       "    <tr>\n",
       "      <th>1</th>\n",
       "      <td>0.001740</td>\n",
       "      <td>0.000207</td>\n",
       "      <td>0.001927</td>\n",
       "      <td>0.000272</td>\n",
       "      <td>minkowski</td>\n",
       "      <td>1</td>\n",
       "      <td>distance</td>\n",
       "      <td>{'metric': 'minkowski', 'n_neighbors': 1, 'wei...</td>\n",
       "      <td>1.0</td>\n",
       "      <td>1.0</td>\n",
       "      <td>0.969697</td>\n",
       "      <td>1.0</td>\n",
       "      <td>1.0</td>\n",
       "      <td>0.993939</td>\n",
       "      <td>0.012121</td>\n",
       "      <td>1</td>\n",
       "    </tr>\n",
       "    <tr>\n",
       "      <th>2</th>\n",
       "      <td>0.001295</td>\n",
       "      <td>0.000149</td>\n",
       "      <td>0.002345</td>\n",
       "      <td>0.000322</td>\n",
       "      <td>minkowski</td>\n",
       "      <td>3</td>\n",
       "      <td>uniform</td>\n",
       "      <td>{'metric': 'minkowski', 'n_neighbors': 3, 'wei...</td>\n",
       "      <td>1.0</td>\n",
       "      <td>1.0</td>\n",
       "      <td>0.969697</td>\n",
       "      <td>1.0</td>\n",
       "      <td>1.0</td>\n",
       "      <td>0.993939</td>\n",
       "      <td>0.012121</td>\n",
       "      <td>1</td>\n",
       "    </tr>\n",
       "    <tr>\n",
       "      <th>3</th>\n",
       "      <td>0.001071</td>\n",
       "      <td>0.000013</td>\n",
       "      <td>0.001134</td>\n",
       "      <td>0.000075</td>\n",
       "      <td>minkowski</td>\n",
       "      <td>3</td>\n",
       "      <td>distance</td>\n",
       "      <td>{'metric': 'minkowski', 'n_neighbors': 3, 'wei...</td>\n",
       "      <td>1.0</td>\n",
       "      <td>1.0</td>\n",
       "      <td>0.969697</td>\n",
       "      <td>1.0</td>\n",
       "      <td>1.0</td>\n",
       "      <td>0.993939</td>\n",
       "      <td>0.012121</td>\n",
       "      <td>1</td>\n",
       "    </tr>\n",
       "    <tr>\n",
       "      <th>4</th>\n",
       "      <td>0.001156</td>\n",
       "      <td>0.000057</td>\n",
       "      <td>0.001782</td>\n",
       "      <td>0.000036</td>\n",
       "      <td>minkowski</td>\n",
       "      <td>5</td>\n",
       "      <td>uniform</td>\n",
       "      <td>{'metric': 'minkowski', 'n_neighbors': 5, 'wei...</td>\n",
       "      <td>1.0</td>\n",
       "      <td>1.0</td>\n",
       "      <td>0.969697</td>\n",
       "      <td>1.0</td>\n",
       "      <td>1.0</td>\n",
       "      <td>0.993939</td>\n",
       "      <td>0.012121</td>\n",
       "      <td>1</td>\n",
       "    </tr>\n",
       "    <tr>\n",
       "      <th>5</th>\n",
       "      <td>0.001074</td>\n",
       "      <td>0.000040</td>\n",
       "      <td>0.001155</td>\n",
       "      <td>0.000031</td>\n",
       "      <td>minkowski</td>\n",
       "      <td>5</td>\n",
       "      <td>distance</td>\n",
       "      <td>{'metric': 'minkowski', 'n_neighbors': 5, 'wei...</td>\n",
       "      <td>1.0</td>\n",
       "      <td>1.0</td>\n",
       "      <td>0.969697</td>\n",
       "      <td>1.0</td>\n",
       "      <td>1.0</td>\n",
       "      <td>0.993939</td>\n",
       "      <td>0.012121</td>\n",
       "      <td>1</td>\n",
       "    </tr>\n",
       "    <tr>\n",
       "      <th>6</th>\n",
       "      <td>0.001039</td>\n",
       "      <td>0.000008</td>\n",
       "      <td>0.001708</td>\n",
       "      <td>0.000091</td>\n",
       "      <td>manhattan</td>\n",
       "      <td>1</td>\n",
       "      <td>uniform</td>\n",
       "      <td>{'metric': 'manhattan', 'n_neighbors': 1, 'wei...</td>\n",
       "      <td>1.0</td>\n",
       "      <td>1.0</td>\n",
       "      <td>0.969697</td>\n",
       "      <td>1.0</td>\n",
       "      <td>1.0</td>\n",
       "      <td>0.993939</td>\n",
       "      <td>0.012121</td>\n",
       "      <td>1</td>\n",
       "    </tr>\n",
       "    <tr>\n",
       "      <th>7</th>\n",
       "      <td>0.001035</td>\n",
       "      <td>0.000011</td>\n",
       "      <td>0.001088</td>\n",
       "      <td>0.000034</td>\n",
       "      <td>manhattan</td>\n",
       "      <td>1</td>\n",
       "      <td>distance</td>\n",
       "      <td>{'metric': 'manhattan', 'n_neighbors': 1, 'wei...</td>\n",
       "      <td>1.0</td>\n",
       "      <td>1.0</td>\n",
       "      <td>0.969697</td>\n",
       "      <td>1.0</td>\n",
       "      <td>1.0</td>\n",
       "      <td>0.993939</td>\n",
       "      <td>0.012121</td>\n",
       "      <td>1</td>\n",
       "    </tr>\n",
       "    <tr>\n",
       "      <th>8</th>\n",
       "      <td>0.001041</td>\n",
       "      <td>0.000014</td>\n",
       "      <td>0.001702</td>\n",
       "      <td>0.000041</td>\n",
       "      <td>manhattan</td>\n",
       "      <td>3</td>\n",
       "      <td>uniform</td>\n",
       "      <td>{'metric': 'manhattan', 'n_neighbors': 3, 'wei...</td>\n",
       "      <td>1.0</td>\n",
       "      <td>1.0</td>\n",
       "      <td>0.969697</td>\n",
       "      <td>1.0</td>\n",
       "      <td>1.0</td>\n",
       "      <td>0.993939</td>\n",
       "      <td>0.012121</td>\n",
       "      <td>1</td>\n",
       "    </tr>\n",
       "    <tr>\n",
       "      <th>9</th>\n",
       "      <td>0.001036</td>\n",
       "      <td>0.000013</td>\n",
       "      <td>0.001108</td>\n",
       "      <td>0.000006</td>\n",
       "      <td>manhattan</td>\n",
       "      <td>3</td>\n",
       "      <td>distance</td>\n",
       "      <td>{'metric': 'manhattan', 'n_neighbors': 3, 'wei...</td>\n",
       "      <td>1.0</td>\n",
       "      <td>1.0</td>\n",
       "      <td>0.969697</td>\n",
       "      <td>1.0</td>\n",
       "      <td>1.0</td>\n",
       "      <td>0.993939</td>\n",
       "      <td>0.012121</td>\n",
       "      <td>1</td>\n",
       "    </tr>\n",
       "    <tr>\n",
       "      <th>10</th>\n",
       "      <td>0.001040</td>\n",
       "      <td>0.000009</td>\n",
       "      <td>0.001747</td>\n",
       "      <td>0.000104</td>\n",
       "      <td>manhattan</td>\n",
       "      <td>5</td>\n",
       "      <td>uniform</td>\n",
       "      <td>{'metric': 'manhattan', 'n_neighbors': 5, 'wei...</td>\n",
       "      <td>1.0</td>\n",
       "      <td>1.0</td>\n",
       "      <td>0.969697</td>\n",
       "      <td>1.0</td>\n",
       "      <td>1.0</td>\n",
       "      <td>0.993939</td>\n",
       "      <td>0.012121</td>\n",
       "      <td>1</td>\n",
       "    </tr>\n",
       "    <tr>\n",
       "      <th>11</th>\n",
       "      <td>0.001168</td>\n",
       "      <td>0.000174</td>\n",
       "      <td>0.001339</td>\n",
       "      <td>0.000190</td>\n",
       "      <td>manhattan</td>\n",
       "      <td>5</td>\n",
       "      <td>distance</td>\n",
       "      <td>{'metric': 'manhattan', 'n_neighbors': 5, 'wei...</td>\n",
       "      <td>1.0</td>\n",
       "      <td>1.0</td>\n",
       "      <td>0.969697</td>\n",
       "      <td>1.0</td>\n",
       "      <td>1.0</td>\n",
       "      <td>0.993939</td>\n",
       "      <td>0.012121</td>\n",
       "      <td>1</td>\n",
       "    </tr>\n",
       "  </tbody>\n",
       "</table>\n",
       "</div>"
      ],
      "text/plain": [
       "    mean_fit_time  std_fit_time  mean_score_time  std_score_time param_metric  \\\n",
       "0        0.004020      0.002921         0.005048        0.002619    minkowski   \n",
       "1        0.001740      0.000207         0.001927        0.000272    minkowski   \n",
       "2        0.001295      0.000149         0.002345        0.000322    minkowski   \n",
       "3        0.001071      0.000013         0.001134        0.000075    minkowski   \n",
       "4        0.001156      0.000057         0.001782        0.000036    minkowski   \n",
       "5        0.001074      0.000040         0.001155        0.000031    minkowski   \n",
       "6        0.001039      0.000008         0.001708        0.000091    manhattan   \n",
       "7        0.001035      0.000011         0.001088        0.000034    manhattan   \n",
       "8        0.001041      0.000014         0.001702        0.000041    manhattan   \n",
       "9        0.001036      0.000013         0.001108        0.000006    manhattan   \n",
       "10       0.001040      0.000009         0.001747        0.000104    manhattan   \n",
       "11       0.001168      0.000174         0.001339        0.000190    manhattan   \n",
       "\n",
       "   param_n_neighbors param_weights  \\\n",
       "0                  1       uniform   \n",
       "1                  1      distance   \n",
       "2                  3       uniform   \n",
       "3                  3      distance   \n",
       "4                  5       uniform   \n",
       "5                  5      distance   \n",
       "6                  1       uniform   \n",
       "7                  1      distance   \n",
       "8                  3       uniform   \n",
       "9                  3      distance   \n",
       "10                 5       uniform   \n",
       "11                 5      distance   \n",
       "\n",
       "                                               params  split0_test_score  \\\n",
       "0   {'metric': 'minkowski', 'n_neighbors': 1, 'wei...                1.0   \n",
       "1   {'metric': 'minkowski', 'n_neighbors': 1, 'wei...                1.0   \n",
       "2   {'metric': 'minkowski', 'n_neighbors': 3, 'wei...                1.0   \n",
       "3   {'metric': 'minkowski', 'n_neighbors': 3, 'wei...                1.0   \n",
       "4   {'metric': 'minkowski', 'n_neighbors': 5, 'wei...                1.0   \n",
       "5   {'metric': 'minkowski', 'n_neighbors': 5, 'wei...                1.0   \n",
       "6   {'metric': 'manhattan', 'n_neighbors': 1, 'wei...                1.0   \n",
       "7   {'metric': 'manhattan', 'n_neighbors': 1, 'wei...                1.0   \n",
       "8   {'metric': 'manhattan', 'n_neighbors': 3, 'wei...                1.0   \n",
       "9   {'metric': 'manhattan', 'n_neighbors': 3, 'wei...                1.0   \n",
       "10  {'metric': 'manhattan', 'n_neighbors': 5, 'wei...                1.0   \n",
       "11  {'metric': 'manhattan', 'n_neighbors': 5, 'wei...                1.0   \n",
       "\n",
       "    split1_test_score  split2_test_score  split3_test_score  \\\n",
       "0                 1.0           0.969697                1.0   \n",
       "1                 1.0           0.969697                1.0   \n",
       "2                 1.0           0.969697                1.0   \n",
       "3                 1.0           0.969697                1.0   \n",
       "4                 1.0           0.969697                1.0   \n",
       "5                 1.0           0.969697                1.0   \n",
       "6                 1.0           0.969697                1.0   \n",
       "7                 1.0           0.969697                1.0   \n",
       "8                 1.0           0.969697                1.0   \n",
       "9                 1.0           0.969697                1.0   \n",
       "10                1.0           0.969697                1.0   \n",
       "11                1.0           0.969697                1.0   \n",
       "\n",
       "    split4_test_score  mean_test_score  std_test_score  rank_test_score  \n",
       "0                 1.0         0.993939        0.012121                1  \n",
       "1                 1.0         0.993939        0.012121                1  \n",
       "2                 1.0         0.993939        0.012121                1  \n",
       "3                 1.0         0.993939        0.012121                1  \n",
       "4                 1.0         0.993939        0.012121                1  \n",
       "5                 1.0         0.993939        0.012121                1  \n",
       "6                 1.0         0.993939        0.012121                1  \n",
       "7                 1.0         0.993939        0.012121                1  \n",
       "8                 1.0         0.993939        0.012121                1  \n",
       "9                 1.0         0.993939        0.012121                1  \n",
       "10                1.0         0.993939        0.012121                1  \n",
       "11                1.0         0.993939        0.012121                1  "
      ]
     },
     "execution_count": 54,
     "metadata": {},
     "output_type": "execute_result"
    }
   ],
   "source": [
    "pd.DataFrame(gs.cv_results_)"
   ]
  },
  {
   "cell_type": "markdown",
   "metadata": {
    "heading_collapsed": true,
    "hidden": true
   },
   "source": [
    "### Choice of Grid Values"
   ]
  },
  {
   "cell_type": "markdown",
   "metadata": {
    "hidden": true
   },
   "source": [
    "Which values should you pick for your grid? Intuitively, you should try both \"large\" and \"small\" values, but of course what counts as large and small will really depend on the type of hyperparameter."
   ]
  },
  {
   "cell_type": "markdown",
   "metadata": {
    "hidden": true
   },
   "source": [
    "- ALWAYS chose your default // include your default in the grid search.\n",
    "- For a k-nearest neighbors model, 1 or 3 would be a small value for the number of neighbors and 15 or 17 would be a large value.\n",
    "- For a decision tree model, what counts as a small `max_depth` will really depend on the size of your training data. A `max_depth` of 5 would likely have little effect on a very small dataset but, at the same time, it would probably significantly decrease the variance of a model where the dataset is large.\n",
    "- For a logistic regression's regularization constant, you may want to try a set of values that are exponentially separated, like \\[1, 10, 100, 1000\\].\n",
    "    - if you are trying to reduce overfitting, then REDUCE the C parameter AKA reduce regularization\n",
    "- **If a grid search finds optimal values at the ends of your hyperparameter ranges, you might try another grid search with more extreme values.**"
   ]
  },
  {
   "cell_type": "markdown",
   "metadata": {
    "heading_collapsed": true,
    "hidden": true
   },
   "source": [
    "### Exercise"
   ]
  },
  {
   "cell_type": "markdown",
   "metadata": {
    "hidden": true
   },
   "source": [
    "Do a grid search on a **decision tree model** of penguin species. What are the optimal values for the hyperparameters you've chosen?"
   ]
  },
  {
   "cell_type": "code",
   "execution_count": null,
   "metadata": {
    "hidden": true
   },
   "outputs": [],
   "source": []
  },
  {
   "cell_type": "markdown",
   "metadata": {
    "heading_collapsed": true
   },
   "source": [
    "# Better Process: Pipelines"
   ]
  },
  {
   "cell_type": "markdown",
   "metadata": {
    "hidden": true
   },
   "source": [
    "> **Pipelines** can keep our code neat and clean all the way from gathering & cleaning our data, to creating models & fine-tuning them!"
   ]
  },
  {
   "cell_type": "markdown",
   "metadata": {
    "hidden": true
   },
   "source": [
    "![](https://imgs.xkcd.com/comics/data_pipeline.png)"
   ]
  },
  {
   "cell_type": "markdown",
   "metadata": {
    "hidden": true
   },
   "source": [
    "The `Pipeline` class from [Scikit-Learn's API](https://scikit-learn.org/stable/modules/generated/sklearn.pipeline.Pipeline.html) is especially convenient since it allows us to use our other Estimators that we know and love!"
   ]
  },
  {
   "cell_type": "markdown",
   "metadata": {
    "heading_collapsed": true,
    "hidden": true
   },
   "source": [
    "## Advantages of `Pipeline`"
   ]
  },
  {
   "cell_type": "markdown",
   "metadata": {
    "heading_collapsed": true,
    "hidden": true
   },
   "source": [
    "### Reduces Complexity"
   ]
  },
  {
   "cell_type": "markdown",
   "metadata": {
    "hidden": true
   },
   "source": [
    "> You can focus on particular parts of the pipeline one at a time and debug or adjust parts as needed."
   ]
  },
  {
   "cell_type": "markdown",
   "metadata": {
    "heading_collapsed": true,
    "hidden": true
   },
   "source": [
    "### Convenient"
   ]
  },
  {
   "cell_type": "markdown",
   "metadata": {
    "hidden": true
   },
   "source": [
    "> The pipeline summarizes your fine-detail steps. That way you can focus on the big-picture aspects."
   ]
  },
  {
   "cell_type": "markdown",
   "metadata": {
    "heading_collapsed": true,
    "hidden": true
   },
   "source": [
    "### Flexible"
   ]
  },
  {
   "cell_type": "markdown",
   "metadata": {
    "hidden": true
   },
   "source": [
    "> You can use pipelines with different models and with GridSearch."
   ]
  },
  {
   "cell_type": "markdown",
   "metadata": {
    "heading_collapsed": true,
    "hidden": true
   },
   "source": [
    "### Prevent Mistakes"
   ]
  },
  {
   "cell_type": "markdown",
   "metadata": {
    "hidden": true
   },
   "source": [
    "> We can focus on one section at a time.\n",
    ">\n",
    "> We also can ensure data leakage between our training and doesn't occur between our training dataset and validation/testing datasets!"
   ]
  },
  {
   "cell_type": "markdown",
   "metadata": {
    "heading_collapsed": true,
    "hidden": true
   },
   "source": [
    "## Example of Using `Pipeline`"
   ]
  },
  {
   "cell_type": "code",
   "execution_count": 57,
   "metadata": {
    "ExecuteTime": {
     "end_time": "2021-10-28T03:33:53.002370Z",
     "start_time": "2021-10-28T03:33:52.905962Z"
    },
    "hidden": true
   },
   "outputs": [],
   "source": [
    "# Getting some data\n",
    "from sklearn import datasets\n",
    "\n",
    "iris = datasets.load_iris()\n",
    "X = iris.data\n",
    "y = iris.target\n",
    "\n",
    "# Split\n",
    "X_train, X_test, y_train, y_test = train_test_split(X, y, test_size=0.2, \n",
    "                                                    random_state=27)"
   ]
  },
  {
   "cell_type": "markdown",
   "metadata": {
    "heading_collapsed": true,
    "hidden": true
   },
   "source": [
    "### Without the Pipeline class"
   ]
  },
  {
   "cell_type": "code",
   "execution_count": 58,
   "metadata": {
    "ExecuteTime": {
     "end_time": "2021-10-28T03:33:54.664937Z",
     "start_time": "2021-10-28T03:33:54.657819Z"
    },
    "hidden": true
   },
   "outputs": [
    {
     "name": "stdout",
     "output_type": "stream",
     "text": [
      "[2 0 2 2 1 1 1 2 2 0 1 1 0 1 1 1 0 2 2 2 1 0 1 0 2 2 1 0 1 2]\n"
     ]
    }
   ],
   "source": [
    "# Define transformers (will adjust/massage the data)\n",
    "imputer = SimpleImputer(strategy=\"median\") # replaces missing values\n",
    "std_scaler = StandardScaler() # scales the data\n",
    "\n",
    "# Define the classifier (predictor) to train\n",
    "rf_clf = DecisionTreeClassifier(random_state=42)\n",
    "\n",
    "# Have the classifer (and full pipeline) learn/train/fit from the data\n",
    "X_train_filled = imputer.fit_transform(X_train)\n",
    "X_train_scaled = std_scaler.fit_transform(X_train_filled)\n",
    "rf_clf.fit(X_train_scaled, y_train)\n",
    "\n",
    "# Predict using the trained classifier (still need to do the transformations)\n",
    "X_test_filled = imputer.transform(X_test)\n",
    "X_test_scaled = std_scaler.transform(X_test_filled)\n",
    "y_pred = rf_clf.predict(X_test_scaled)\n",
    "print(y_pred)"
   ]
  },
  {
   "cell_type": "markdown",
   "metadata": {
    "hidden": true
   },
   "source": [
    "> Note that if we were to add more steps in this process, we'd have to change both the *training* and *testing* processes."
   ]
  },
  {
   "cell_type": "markdown",
   "metadata": {
    "heading_collapsed": true,
    "hidden": true
   },
   "source": [
    "### With `Pipeline` Class"
   ]
  },
  {
   "cell_type": "code",
   "execution_count": 59,
   "metadata": {
    "ExecuteTime": {
     "end_time": "2021-10-28T03:33:58.205429Z",
     "start_time": "2021-10-28T03:33:58.198897Z"
    },
    "hidden": true
   },
   "outputs": [
    {
     "name": "stdout",
     "output_type": "stream",
     "text": [
      "[2 0 2 2 1 1 1 2 2 0 1 1 0 1 1 1 0 2 2 2 1 0 1 0 2 2 1 0 1 2]\n"
     ]
    }
   ],
   "source": [
    "pipeline = Pipeline([\n",
    "        ('imputer', SimpleImputer(strategy=\"median\")), \n",
    "        ('std_scaler', StandardScaler()),\n",
    "        ('rf_clf', DecisionTreeClassifier(random_state=42)),\n",
    "])\n",
    "\n",
    "\n",
    "# Train the pipeline (tranformations & predictor)\n",
    "pipeline.fit(X_train, y_train)\n",
    "\n",
    "# Predict using the pipeline (includes the transfomers & trained predictor)\n",
    "predicted = pipeline.predict(X_test)\n",
    "print(predicted)"
   ]
  },
  {
   "cell_type": "code",
   "execution_count": 60,
   "metadata": {},
   "outputs": [
    {
     "data": {
      "text/plain": [
       "SimpleImputer(strategy='median')"
      ]
     },
     "execution_count": 60,
     "metadata": {},
     "output_type": "execute_result"
    }
   ],
   "source": [
    "pipeline['imputer']"
   ]
  },
  {
   "cell_type": "code",
   "execution_count": 62,
   "metadata": {},
   "outputs": [
    {
     "data": {
      "text/plain": [
       "{'imputer': SimpleImputer(strategy='median'),\n",
       " 'std_scaler': StandardScaler(),\n",
       " 'rf_clf': DecisionTreeClassifier(random_state=42)}"
      ]
     },
     "execution_count": 62,
     "metadata": {},
     "output_type": "execute_result"
    }
   ],
   "source": [
    "pipeline.named_steps"
   ]
  },
  {
   "cell_type": "code",
   "execution_count": 63,
   "metadata": {},
   "outputs": [
    {
     "data": {
      "text/plain": [
       "array([0.        , 0.03338202, 0.55667565, 0.40994234])"
      ]
     },
     "execution_count": 63,
     "metadata": {},
     "output_type": "execute_result"
    }
   ],
   "source": [
    "pipeline['rf_clf'].feature_importances_"
   ]
  },
  {
   "cell_type": "markdown",
   "metadata": {
    "hidden": true
   },
   "source": [
    "> If we need to change our process, we change it _just once_ in the Pipeline"
   ]
  },
  {
   "cell_type": "markdown",
   "metadata": {
    "heading_collapsed": true,
    "hidden": true
   },
   "source": [
    "## Grid Searching a Pipeline"
   ]
  },
  {
   "cell_type": "markdown",
   "metadata": {
    "hidden": true
   },
   "source": [
    "> Let's first get our data prepared like we did before"
   ]
  },
  {
   "cell_type": "code",
   "execution_count": 61,
   "metadata": {
    "ExecuteTime": {
     "end_time": "2021-10-28T03:34:01.754929Z",
     "start_time": "2021-10-28T03:34:01.746719Z"
    },
    "hidden": true
   },
   "outputs": [],
   "source": [
    "penguins = sns.load_dataset('penguins')\n",
    "penguins = penguins.dropna()"
   ]
  },
  {
   "cell_type": "code",
   "execution_count": 64,
   "metadata": {
    "ExecuteTime": {
     "end_time": "2021-10-28T03:34:02.556723Z",
     "start_time": "2021-10-28T03:34:02.552362Z"
    },
    "hidden": true
   },
   "outputs": [],
   "source": [
    "y = penguins.pop('species')\n",
    "X_train, X_test, y_train, y_test = train_test_split(\n",
    "    penguins, y, test_size=0.5, random_state=42)"
   ]
  },
  {
   "cell_type": "code",
   "execution_count": 65,
   "metadata": {
    "ExecuteTime": {
     "end_time": "2021-10-28T03:34:03.045865Z",
     "start_time": "2021-10-28T03:34:03.037423Z"
    },
    "hidden": true
   },
   "outputs": [],
   "source": [
    "X_train_nums = X_train.select_dtypes('float64')\n",
    "\n",
    "ss = StandardScaler()\n",
    "\n",
    "ss.fit(X_train_nums)\n",
    "nums_df = pd.DataFrame(ss.transform(X_train_nums),\n",
    "                      index=X_train_nums.index)"
   ]
  },
  {
   "cell_type": "code",
   "execution_count": 66,
   "metadata": {
    "ExecuteTime": {
     "end_time": "2021-10-28T03:34:04.617701Z",
     "start_time": "2021-10-28T03:34:04.611557Z"
    },
    "hidden": true
   },
   "outputs": [],
   "source": [
    "X_train_cat = X_train.select_dtypes('object')\n",
    "\n",
    "ohe = OneHotEncoder(\n",
    "    drop='first',\n",
    "    sparse=False)\n",
    "\n",
    "dums = ohe.fit_transform(X_train_cat)\n",
    "dums_df = pd.DataFrame(dums,\n",
    "                       columns=ohe.get_feature_names(),\n",
    "                       index=X_train_cat.index)"
   ]
  },
  {
   "cell_type": "markdown",
   "metadata": {
    "hidden": true
   },
   "source": [
    "> Intermediary step to treat categorical and numerical data differently"
   ]
  },
  {
   "cell_type": "markdown",
   "metadata": {},
   "source": [
    "### Using `ColumnTransformer`"
   ]
  },
  {
   "cell_type": "code",
   "execution_count": 67,
   "metadata": {
    "ExecuteTime": {
     "end_time": "2021-10-28T03:34:07.230978Z",
     "start_time": "2021-10-28T03:34:07.226999Z"
    }
   },
   "outputs": [
    {
     "data": {
      "text/plain": [
       "Index(['bill_length_mm', 'bill_depth_mm', 'flipper_length_mm', 'body_mass_g'], dtype='object')"
      ]
     },
     "execution_count": 67,
     "metadata": {},
     "output_type": "execute_result"
    }
   ],
   "source": [
    "X_train_nums.columns"
   ]
  },
  {
   "cell_type": "code",
   "execution_count": 68,
   "metadata": {
    "ExecuteTime": {
     "end_time": "2021-10-28T03:34:07.623709Z",
     "start_time": "2021-10-28T03:34:07.620047Z"
    },
    "hidden": true
   },
   "outputs": [],
   "source": [
    "numerical_pipeline = Pipeline(steps=[('ss', StandardScaler())])"
   ]
  },
  {
   "cell_type": "code",
   "execution_count": 73,
   "metadata": {
    "ExecuteTime": {
     "end_time": "2021-10-28T03:34:09.542917Z",
     "start_time": "2021-10-28T03:34:09.540088Z"
    },
    "hidden": true
   },
   "outputs": [],
   "source": [
    "cat_pipeline = Pipeline(steps=[('ohe', OneHotEncoder(sparse=False, \n",
    "                                                     handle_unknown='ignore'))])\n",
    "transformer = ColumnTransformer(transformers=[\n",
    "    ('num', numerical_pipeline, X_train_nums.columns),\n",
    "    ('cat', cat_pipeline, X_train_cat.columns)])"
   ]
  },
  {
   "cell_type": "code",
   "execution_count": 74,
   "metadata": {},
   "outputs": [],
   "source": [
    "model_pipe = Pipeline(steps=[('col_tr', transformer),\n",
    "                             ('knn', KNeighborsClassifier())])"
   ]
  },
  {
   "cell_type": "markdown",
   "metadata": {
    "hidden": true
   },
   "source": [
    "> Finally showing we can fit the full pipeline"
   ]
  },
  {
   "cell_type": "code",
   "execution_count": 75,
   "metadata": {
    "ExecuteTime": {
     "end_time": "2021-10-28T03:34:13.295438Z",
     "start_time": "2021-10-28T03:34:13.263487Z"
    },
    "hidden": true
   },
   "outputs": [
    {
     "data": {
      "text/plain": [
       "Pipeline(steps=[('col_tr',\n",
       "                 ColumnTransformer(transformers=[('num',\n",
       "                                                  Pipeline(steps=[('ss',\n",
       "                                                                   StandardScaler())]),\n",
       "                                                  Index(['bill_length_mm', 'bill_depth_mm', 'flipper_length_mm', 'body_mass_g'], dtype='object')),\n",
       "                                                 ('cat',\n",
       "                                                  Pipeline(steps=[('ohe',\n",
       "                                                                   OneHotEncoder(handle_unknown='ignore',\n",
       "                                                                                 sparse=False))]),\n",
       "                                                  Index(['island', 'sex'], dtype='object'))])),\n",
       "                ('knn', KNeighborsClassifier())])"
      ]
     },
     "execution_count": 75,
     "metadata": {},
     "output_type": "execute_result"
    }
   ],
   "source": [
    "model_pipe.fit(X_train, y_train)"
   ]
  },
  {
   "cell_type": "code",
   "execution_count": 76,
   "metadata": {
    "ExecuteTime": {
     "end_time": "2021-10-28T03:34:13.618940Z",
     "start_time": "2021-10-28T03:34:13.603520Z"
    },
    "hidden": true
   },
   "outputs": [
    {
     "data": {
      "text/plain": [
       "0.9939759036144579"
      ]
     },
     "execution_count": 76,
     "metadata": {},
     "output_type": "execute_result"
    }
   ],
   "source": [
    "model_pipe.score(X_train, y_train)"
   ]
  },
  {
   "cell_type": "code",
   "execution_count": 77,
   "metadata": {},
   "outputs": [
    {
     "data": {
      "text/plain": [
       "0.9880239520958084"
      ]
     },
     "execution_count": 77,
     "metadata": {},
     "output_type": "execute_result"
    }
   ],
   "source": [
    "model_pipe.score(X_test, y_test)"
   ]
  },
  {
   "cell_type": "markdown",
   "metadata": {
    "hidden": true
   },
   "source": [
    "> Performing grid search on the full pipeline"
   ]
  },
  {
   "cell_type": "code",
   "execution_count": 78,
   "metadata": {},
   "outputs": [
    {
     "data": {
      "text/plain": [
       "KNeighborsClassifier()"
      ]
     },
     "execution_count": 78,
     "metadata": {},
     "output_type": "execute_result"
    }
   ],
   "source": [
    "model_pipe.named_steps['knn']"
   ]
  },
  {
   "cell_type": "code",
   "execution_count": 87,
   "metadata": {},
   "outputs": [
    {
     "data": {
      "text/plain": [
       "OneHotEncoder(handle_unknown='ignore', sparse=False)"
      ]
     },
     "execution_count": 87,
     "metadata": {},
     "output_type": "execute_result"
    }
   ],
   "source": [
    "model_pipe['col_tr'].named_transformers_['cat']['ohe']"
   ]
  },
  {
   "cell_type": "code",
   "execution_count": 81,
   "metadata": {
    "scrolled": true
   },
   "outputs": [
    {
     "data": {
      "text/plain": [
       "StandardScaler()"
      ]
     },
     "execution_count": 81,
     "metadata": {},
     "output_type": "execute_result"
    }
   ],
   "source": [
    "model_pipe['col_tr'].named_transformers_['num']['ss']"
   ]
  },
  {
   "cell_type": "code",
   "execution_count": 92,
   "metadata": {
    "ExecuteTime": {
     "end_time": "2021-10-28T03:34:16.220781Z",
     "start_time": "2021-10-28T03:34:16.217965Z"
    },
    "hidden": true
   },
   "outputs": [],
   "source": [
    "pipe_grid = {'knn__n_neighbors':[3, 5, 7],\n",
    "             'knn__p': [1, 2, 3],\n",
    "             'col_tr__num__ss__with_std': [True, False]}\n",
    "gs_pipe = GridSearchCV(estimator=model_pipe, param_grid=pipe_grid, verbose=2)"
   ]
  },
  {
   "cell_type": "code",
   "execution_count": 93,
   "metadata": {
    "ExecuteTime": {
     "end_time": "2021-10-28T03:34:17.181559Z",
     "start_time": "2021-10-28T03:34:16.542973Z"
    },
    "hidden": true
   },
   "outputs": [
    {
     "name": "stdout",
     "output_type": "stream",
     "text": [
      "Fitting 5 folds for each of 18 candidates, totalling 90 fits\n",
      "[CV] col_tr__num__ss__with_std=True, knn__n_neighbors=3, knn__p=1 ....\n",
      "[CV]  col_tr__num__ss__with_std=True, knn__n_neighbors=3, knn__p=1, total=   0.0s\n",
      "[CV] col_tr__num__ss__with_std=True, knn__n_neighbors=3, knn__p=1 ....\n",
      "[CV]  col_tr__num__ss__with_std=True, knn__n_neighbors=3, knn__p=1, total=   0.0s\n",
      "[CV] col_tr__num__ss__with_std=True, knn__n_neighbors=3, knn__p=1 ....\n",
      "[CV]  col_tr__num__ss__with_std=True, knn__n_neighbors=3, knn__p=1, total=   0.0s\n",
      "[CV] col_tr__num__ss__with_std=True, knn__n_neighbors=3, knn__p=1 ....\n",
      "[CV]  col_tr__num__ss__with_std=True, knn__n_neighbors=3, knn__p=1, total=   0.0s\n",
      "[CV] col_tr__num__ss__with_std=True, knn__n_neighbors=3, knn__p=1 ....\n",
      "[CV]  col_tr__num__ss__with_std=True, knn__n_neighbors=3, knn__p=1, total=   0.0s\n",
      "[CV] col_tr__num__ss__with_std=True, knn__n_neighbors=3, knn__p=2 ....\n",
      "[CV]  col_tr__num__ss__with_std=True, knn__n_neighbors=3, knn__p=2, total=   0.0s\n",
      "[CV] col_tr__num__ss__with_std=True, knn__n_neighbors=3, knn__p=2 ....\n",
      "[CV]  col_tr__num__ss__with_std=True, knn__n_neighbors=3, knn__p=2, total=   0.0s\n",
      "[CV] col_tr__num__ss__with_std=True, knn__n_neighbors=3, knn__p=2 ....\n",
      "[CV]  col_tr__num__ss__with_std=True, knn__n_neighbors=3, knn__p=2, total=   0.0s\n",
      "[CV] col_tr__num__ss__with_std=True, knn__n_neighbors=3, knn__p=2 ....\n",
      "[CV]  col_tr__num__ss__with_std=True, knn__n_neighbors=3, knn__p=2, total=   0.0s\n",
      "[CV] col_tr__num__ss__with_std=True, knn__n_neighbors=3, knn__p=2 ....\n",
      "[CV]  col_tr__num__ss__with_std=True, knn__n_neighbors=3, knn__p=2, total=   0.0s\n",
      "[CV] col_tr__num__ss__with_std=True, knn__n_neighbors=3, knn__p=3 ....\n",
      "[CV]  col_tr__num__ss__with_std=True, knn__n_neighbors=3, knn__p=3, total=   0.0s\n",
      "[CV] col_tr__num__ss__with_std=True, knn__n_neighbors=3, knn__p=3 ....\n",
      "[CV]  col_tr__num__ss__with_std=True, knn__n_neighbors=3, knn__p=3, total=   0.0s\n",
      "[CV] col_tr__num__ss__with_std=True, knn__n_neighbors=3, knn__p=3 ....\n",
      "[CV]  col_tr__num__ss__with_std=True, knn__n_neighbors=3, knn__p=3, total=   0.0s\n",
      "[CV] col_tr__num__ss__with_std=True, knn__n_neighbors=3, knn__p=3 ....\n",
      "[CV]  col_tr__num__ss__with_std=True, knn__n_neighbors=3, knn__p=3, total=   0.0s\n",
      "[CV] col_tr__num__ss__with_std=True, knn__n_neighbors=3, knn__p=3 ....\n",
      "[CV]  col_tr__num__ss__with_std=True, knn__n_neighbors=3, knn__p=3, total=   0.0s\n",
      "[CV] col_tr__num__ss__with_std=True, knn__n_neighbors=5, knn__p=1 ....\n",
      "[CV]  col_tr__num__ss__with_std=True, knn__n_neighbors=5, knn__p=1, total=   0.0s\n",
      "[CV] col_tr__num__ss__with_std=True, knn__n_neighbors=5, knn__p=1 ....\n",
      "[CV]  col_tr__num__ss__with_std=True, knn__n_neighbors=5, knn__p=1, total=   0.0s\n",
      "[CV] col_tr__num__ss__with_std=True, knn__n_neighbors=5, knn__p=1 ....\n",
      "[CV]  col_tr__num__ss__with_std=True, knn__n_neighbors=5, knn__p=1, total=   0.0s\n",
      "[CV] col_tr__num__ss__with_std=True, knn__n_neighbors=5, knn__p=1 ....\n",
      "[CV]  col_tr__num__ss__with_std=True, knn__n_neighbors=5, knn__p=1, total=   0.0s\n",
      "[CV] col_tr__num__ss__with_std=True, knn__n_neighbors=5, knn__p=1 ....\n",
      "[CV]  col_tr__num__ss__with_std=True, knn__n_neighbors=5, knn__p=1, total=   0.0s\n",
      "[CV] col_tr__num__ss__with_std=True, knn__n_neighbors=5, knn__p=2 ....\n",
      "[CV]  col_tr__num__ss__with_std=True, knn__n_neighbors=5, knn__p=2, total=   0.0s\n",
      "[CV] col_tr__num__ss__with_std=True, knn__n_neighbors=5, knn__p=2 ....\n"
     ]
    },
    {
     "name": "stderr",
     "output_type": "stream",
     "text": [
      "[Parallel(n_jobs=1)]: Using backend SequentialBackend with 1 concurrent workers.\n",
      "[Parallel(n_jobs=1)]: Done   1 out of   1 | elapsed:    0.0s remaining:    0.0s\n"
     ]
    },
    {
     "name": "stdout",
     "output_type": "stream",
     "text": [
      "[CV]  col_tr__num__ss__with_std=True, knn__n_neighbors=5, knn__p=2, total=   0.0s\n",
      "[CV] col_tr__num__ss__with_std=True, knn__n_neighbors=5, knn__p=2 ....\n",
      "[CV]  col_tr__num__ss__with_std=True, knn__n_neighbors=5, knn__p=2, total=   0.0s\n",
      "[CV] col_tr__num__ss__with_std=True, knn__n_neighbors=5, knn__p=2 ....\n",
      "[CV]  col_tr__num__ss__with_std=True, knn__n_neighbors=5, knn__p=2, total=   0.0s\n",
      "[CV] col_tr__num__ss__with_std=True, knn__n_neighbors=5, knn__p=2 ....\n",
      "[CV]  col_tr__num__ss__with_std=True, knn__n_neighbors=5, knn__p=2, total=   0.0s\n",
      "[CV] col_tr__num__ss__with_std=True, knn__n_neighbors=5, knn__p=3 ....\n",
      "[CV]  col_tr__num__ss__with_std=True, knn__n_neighbors=5, knn__p=3, total=   0.0s\n",
      "[CV] col_tr__num__ss__with_std=True, knn__n_neighbors=5, knn__p=3 ....\n",
      "[CV]  col_tr__num__ss__with_std=True, knn__n_neighbors=5, knn__p=3, total=   0.0s\n",
      "[CV] col_tr__num__ss__with_std=True, knn__n_neighbors=5, knn__p=3 ....\n",
      "[CV]  col_tr__num__ss__with_std=True, knn__n_neighbors=5, knn__p=3, total=   0.0s\n",
      "[CV] col_tr__num__ss__with_std=True, knn__n_neighbors=5, knn__p=3 ....\n",
      "[CV]  col_tr__num__ss__with_std=True, knn__n_neighbors=5, knn__p=3, total=   0.0s\n",
      "[CV] col_tr__num__ss__with_std=True, knn__n_neighbors=5, knn__p=3 ....\n",
      "[CV]  col_tr__num__ss__with_std=True, knn__n_neighbors=5, knn__p=3, total=   0.0s\n",
      "[CV] col_tr__num__ss__with_std=True, knn__n_neighbors=7, knn__p=1 ....\n",
      "[CV]  col_tr__num__ss__with_std=True, knn__n_neighbors=7, knn__p=1, total=   0.0s\n",
      "[CV] col_tr__num__ss__with_std=True, knn__n_neighbors=7, knn__p=1 ....\n",
      "[CV]  col_tr__num__ss__with_std=True, knn__n_neighbors=7, knn__p=1, total=   0.0s\n",
      "[CV] col_tr__num__ss__with_std=True, knn__n_neighbors=7, knn__p=1 ....\n",
      "[CV]  col_tr__num__ss__with_std=True, knn__n_neighbors=7, knn__p=1, total=   0.0s\n",
      "[CV] col_tr__num__ss__with_std=True, knn__n_neighbors=7, knn__p=1 ....\n",
      "[CV]  col_tr__num__ss__with_std=True, knn__n_neighbors=7, knn__p=1, total=   0.0s\n",
      "[CV] col_tr__num__ss__with_std=True, knn__n_neighbors=7, knn__p=1 ....\n",
      "[CV]  col_tr__num__ss__with_std=True, knn__n_neighbors=7, knn__p=1, total=   0.0s\n",
      "[CV] col_tr__num__ss__with_std=True, knn__n_neighbors=7, knn__p=2 ....\n",
      "[CV]  col_tr__num__ss__with_std=True, knn__n_neighbors=7, knn__p=2, total=   0.0s\n",
      "[CV] col_tr__num__ss__with_std=True, knn__n_neighbors=7, knn__p=2 ....\n",
      "[CV]  col_tr__num__ss__with_std=True, knn__n_neighbors=7, knn__p=2, total=   0.0s\n",
      "[CV] col_tr__num__ss__with_std=True, knn__n_neighbors=7, knn__p=2 ....\n",
      "[CV]  col_tr__num__ss__with_std=True, knn__n_neighbors=7, knn__p=2, total=   0.0s\n",
      "[CV] col_tr__num__ss__with_std=True, knn__n_neighbors=7, knn__p=2 ....\n",
      "[CV]  col_tr__num__ss__with_std=True, knn__n_neighbors=7, knn__p=2, total=   0.0s\n",
      "[CV] col_tr__num__ss__with_std=True, knn__n_neighbors=7, knn__p=2 ....\n",
      "[CV]  col_tr__num__ss__with_std=True, knn__n_neighbors=7, knn__p=2, total=   0.0s\n",
      "[CV] col_tr__num__ss__with_std=True, knn__n_neighbors=7, knn__p=3 ....\n",
      "[CV]  col_tr__num__ss__with_std=True, knn__n_neighbors=7, knn__p=3, total=   0.0s\n",
      "[CV] col_tr__num__ss__with_std=True, knn__n_neighbors=7, knn__p=3 ....\n",
      "[CV]  col_tr__num__ss__with_std=True, knn__n_neighbors=7, knn__p=3, total=   0.0s\n",
      "[CV] col_tr__num__ss__with_std=True, knn__n_neighbors=7, knn__p=3 ....\n",
      "[CV]  col_tr__num__ss__with_std=True, knn__n_neighbors=7, knn__p=3, total=   0.0s\n",
      "[CV] col_tr__num__ss__with_std=True, knn__n_neighbors=7, knn__p=3 ....\n",
      "[CV]  col_tr__num__ss__with_std=True, knn__n_neighbors=7, knn__p=3, total=   0.0s\n",
      "[CV] col_tr__num__ss__with_std=True, knn__n_neighbors=7, knn__p=3 ....\n",
      "[CV]  col_tr__num__ss__with_std=True, knn__n_neighbors=7, knn__p=3, total=   0.0s\n",
      "[CV] col_tr__num__ss__with_std=False, knn__n_neighbors=3, knn__p=1 ...\n",
      "[CV]  col_tr__num__ss__with_std=False, knn__n_neighbors=3, knn__p=1, total=   0.0s\n",
      "[CV] col_tr__num__ss__with_std=False, knn__n_neighbors=3, knn__p=1 ...\n",
      "[CV]  col_tr__num__ss__with_std=False, knn__n_neighbors=3, knn__p=1, total=   0.0s\n",
      "[CV] col_tr__num__ss__with_std=False, knn__n_neighbors=3, knn__p=1 ...\n",
      "[CV]  col_tr__num__ss__with_std=False, knn__n_neighbors=3, knn__p=1, total=   0.0s\n",
      "[CV] col_tr__num__ss__with_std=False, knn__n_neighbors=3, knn__p=1 ...\n",
      "[CV]  col_tr__num__ss__with_std=False, knn__n_neighbors=3, knn__p=1, total=   0.0s\n",
      "[CV] col_tr__num__ss__with_std=False, knn__n_neighbors=3, knn__p=1 ...\n",
      "[CV]  col_tr__num__ss__with_std=False, knn__n_neighbors=3, knn__p=1, total=   0.0s\n",
      "[CV] col_tr__num__ss__with_std=False, knn__n_neighbors=3, knn__p=2 ...\n",
      "[CV]  col_tr__num__ss__with_std=False, knn__n_neighbors=3, knn__p=2, total=   0.0s\n",
      "[CV] col_tr__num__ss__with_std=False, knn__n_neighbors=3, knn__p=2 ...\n",
      "[CV]  col_tr__num__ss__with_std=False, knn__n_neighbors=3, knn__p=2, total=   0.0s\n",
      "[CV] col_tr__num__ss__with_std=False, knn__n_neighbors=3, knn__p=2 ...\n",
      "[CV]  col_tr__num__ss__with_std=False, knn__n_neighbors=3, knn__p=2, total=   0.0s\n",
      "[CV] col_tr__num__ss__with_std=False, knn__n_neighbors=3, knn__p=2 ...\n",
      "[CV]  col_tr__num__ss__with_std=False, knn__n_neighbors=3, knn__p=2, total=   0.0s\n",
      "[CV] col_tr__num__ss__with_std=False, knn__n_neighbors=3, knn__p=2 ...\n",
      "[CV]  col_tr__num__ss__with_std=False, knn__n_neighbors=3, knn__p=2, total=   0.0s\n",
      "[CV] col_tr__num__ss__with_std=False, knn__n_neighbors=3, knn__p=3 ...\n",
      "[CV]  col_tr__num__ss__with_std=False, knn__n_neighbors=3, knn__p=3, total=   0.0s\n",
      "[CV] col_tr__num__ss__with_std=False, knn__n_neighbors=3, knn__p=3 ...\n",
      "[CV]  col_tr__num__ss__with_std=False, knn__n_neighbors=3, knn__p=3, total=   0.0s\n",
      "[CV] col_tr__num__ss__with_std=False, knn__n_neighbors=3, knn__p=3 ...\n",
      "[CV]  col_tr__num__ss__with_std=False, knn__n_neighbors=3, knn__p=3, total=   0.0s\n",
      "[CV] col_tr__num__ss__with_std=False, knn__n_neighbors=3, knn__p=3 ...\n",
      "[CV]  col_tr__num__ss__with_std=False, knn__n_neighbors=3, knn__p=3, total=   0.0s\n",
      "[CV] col_tr__num__ss__with_std=False, knn__n_neighbors=3, knn__p=3 ...\n",
      "[CV]  col_tr__num__ss__with_std=False, knn__n_neighbors=3, knn__p=3, total=   0.0s\n",
      "[CV] col_tr__num__ss__with_std=False, knn__n_neighbors=5, knn__p=1 ...\n",
      "[CV]  col_tr__num__ss__with_std=False, knn__n_neighbors=5, knn__p=1, total=   0.0s\n",
      "[CV] col_tr__num__ss__with_std=False, knn__n_neighbors=5, knn__p=1 ...\n",
      "[CV]  col_tr__num__ss__with_std=False, knn__n_neighbors=5, knn__p=1, total=   0.0s\n",
      "[CV] col_tr__num__ss__with_std=False, knn__n_neighbors=5, knn__p=1 ...\n",
      "[CV]  col_tr__num__ss__with_std=False, knn__n_neighbors=5, knn__p=1, total=   0.0s\n",
      "[CV] col_tr__num__ss__with_std=False, knn__n_neighbors=5, knn__p=1 ...\n",
      "[CV]  col_tr__num__ss__with_std=False, knn__n_neighbors=5, knn__p=1, total=   0.0s\n",
      "[CV] col_tr__num__ss__with_std=False, knn__n_neighbors=5, knn__p=1 ...\n",
      "[CV]  col_tr__num__ss__with_std=False, knn__n_neighbors=5, knn__p=1, total=   0.0s\n",
      "[CV] col_tr__num__ss__with_std=False, knn__n_neighbors=5, knn__p=2 ...\n",
      "[CV]  col_tr__num__ss__with_std=False, knn__n_neighbors=5, knn__p=2, total=   0.0s\n",
      "[CV] col_tr__num__ss__with_std=False, knn__n_neighbors=5, knn__p=2 ...\n",
      "[CV]  col_tr__num__ss__with_std=False, knn__n_neighbors=5, knn__p=2, total=   0.0s\n",
      "[CV] col_tr__num__ss__with_std=False, knn__n_neighbors=5, knn__p=2 ...\n",
      "[CV]  col_tr__num__ss__with_std=False, knn__n_neighbors=5, knn__p=2, total=   0.0s\n",
      "[CV] col_tr__num__ss__with_std=False, knn__n_neighbors=5, knn__p=2 ...\n",
      "[CV]  col_tr__num__ss__with_std=False, knn__n_neighbors=5, knn__p=2, total=   0.0s\n",
      "[CV] col_tr__num__ss__with_std=False, knn__n_neighbors=5, knn__p=2 ...\n",
      "[CV]  col_tr__num__ss__with_std=False, knn__n_neighbors=5, knn__p=2, total=   0.0s\n",
      "[CV] col_tr__num__ss__with_std=False, knn__n_neighbors=5, knn__p=3 ...\n",
      "[CV]  col_tr__num__ss__with_std=False, knn__n_neighbors=5, knn__p=3, total=   0.0s\n",
      "[CV] col_tr__num__ss__with_std=False, knn__n_neighbors=5, knn__p=3 ...\n",
      "[CV]  col_tr__num__ss__with_std=False, knn__n_neighbors=5, knn__p=3, total=   0.0s\n",
      "[CV] col_tr__num__ss__with_std=False, knn__n_neighbors=5, knn__p=3 ...\n",
      "[CV]  col_tr__num__ss__with_std=False, knn__n_neighbors=5, knn__p=3, total=   0.0s\n",
      "[CV] col_tr__num__ss__with_std=False, knn__n_neighbors=5, knn__p=3 ...\n",
      "[CV]  col_tr__num__ss__with_std=False, knn__n_neighbors=5, knn__p=3, total=   0.0s\n",
      "[CV] col_tr__num__ss__with_std=False, knn__n_neighbors=5, knn__p=3 ...\n",
      "[CV]  col_tr__num__ss__with_std=False, knn__n_neighbors=5, knn__p=3, total=   0.0s\n",
      "[CV] col_tr__num__ss__with_std=False, knn__n_neighbors=7, knn__p=1 ...\n"
     ]
    },
    {
     "name": "stdout",
     "output_type": "stream",
     "text": [
      "[CV]  col_tr__num__ss__with_std=False, knn__n_neighbors=7, knn__p=1, total=   0.0s\n",
      "[CV] col_tr__num__ss__with_std=False, knn__n_neighbors=7, knn__p=1 ...\n",
      "[CV]  col_tr__num__ss__with_std=False, knn__n_neighbors=7, knn__p=1, total=   0.0s\n",
      "[CV] col_tr__num__ss__with_std=False, knn__n_neighbors=7, knn__p=1 ...\n",
      "[CV]  col_tr__num__ss__with_std=False, knn__n_neighbors=7, knn__p=1, total=   0.0s\n",
      "[CV] col_tr__num__ss__with_std=False, knn__n_neighbors=7, knn__p=1 ...\n",
      "[CV]  col_tr__num__ss__with_std=False, knn__n_neighbors=7, knn__p=1, total=   0.0s\n",
      "[CV] col_tr__num__ss__with_std=False, knn__n_neighbors=7, knn__p=1 ...\n",
      "[CV]  col_tr__num__ss__with_std=False, knn__n_neighbors=7, knn__p=1, total=   0.0s\n",
      "[CV] col_tr__num__ss__with_std=False, knn__n_neighbors=7, knn__p=2 ...\n",
      "[CV]  col_tr__num__ss__with_std=False, knn__n_neighbors=7, knn__p=2, total=   0.0s\n",
      "[CV] col_tr__num__ss__with_std=False, knn__n_neighbors=7, knn__p=2 ...\n",
      "[CV]  col_tr__num__ss__with_std=False, knn__n_neighbors=7, knn__p=2, total=   0.0s\n",
      "[CV] col_tr__num__ss__with_std=False, knn__n_neighbors=7, knn__p=2 ...\n",
      "[CV]  col_tr__num__ss__with_std=False, knn__n_neighbors=7, knn__p=2, total=   0.0s\n",
      "[CV] col_tr__num__ss__with_std=False, knn__n_neighbors=7, knn__p=2 ...\n",
      "[CV]  col_tr__num__ss__with_std=False, knn__n_neighbors=7, knn__p=2, total=   0.0s\n",
      "[CV] col_tr__num__ss__with_std=False, knn__n_neighbors=7, knn__p=2 ...\n",
      "[CV]  col_tr__num__ss__with_std=False, knn__n_neighbors=7, knn__p=2, total=   0.0s\n",
      "[CV] col_tr__num__ss__with_std=False, knn__n_neighbors=7, knn__p=3 ...\n",
      "[CV]  col_tr__num__ss__with_std=False, knn__n_neighbors=7, knn__p=3, total=   0.0s\n",
      "[CV] col_tr__num__ss__with_std=False, knn__n_neighbors=7, knn__p=3 ...\n",
      "[CV]  col_tr__num__ss__with_std=False, knn__n_neighbors=7, knn__p=3, total=   0.0s\n",
      "[CV] col_tr__num__ss__with_std=False, knn__n_neighbors=7, knn__p=3 ...\n",
      "[CV]  col_tr__num__ss__with_std=False, knn__n_neighbors=7, knn__p=3, total=   0.0s\n",
      "[CV] col_tr__num__ss__with_std=False, knn__n_neighbors=7, knn__p=3 ...\n",
      "[CV]  col_tr__num__ss__with_std=False, knn__n_neighbors=7, knn__p=3, total=   0.0s\n",
      "[CV] col_tr__num__ss__with_std=False, knn__n_neighbors=7, knn__p=3 ...\n",
      "[CV]  col_tr__num__ss__with_std=False, knn__n_neighbors=7, knn__p=3, total=   0.0s\n"
     ]
    },
    {
     "name": "stderr",
     "output_type": "stream",
     "text": [
      "[Parallel(n_jobs=1)]: Done  90 out of  90 | elapsed:    0.7s finished\n"
     ]
    },
    {
     "data": {
      "text/plain": [
       "GridSearchCV(estimator=Pipeline(steps=[('col_tr',\n",
       "                                        ColumnTransformer(transformers=[('num',\n",
       "                                                                         Pipeline(steps=[('ss',\n",
       "                                                                                          StandardScaler())]),\n",
       "                                                                         Index(['bill_length_mm', 'bill_depth_mm', 'flipper_length_mm', 'body_mass_g'], dtype='object')),\n",
       "                                                                        ('cat',\n",
       "                                                                         Pipeline(steps=[('ohe',\n",
       "                                                                                          OneHotEncoder(handle_unknown='ignore',\n",
       "                                                                                                        sparse=False))]),\n",
       "                                                                         Index(['island', 'sex'], dtype='object'))])),\n",
       "                                       ('knn', KNeighborsClassifier())]),\n",
       "             param_grid={'col_tr__num__ss__with_std': [True, False],\n",
       "                         'knn__n_neighbors': [3, 5, 7], 'knn__p': [1, 2, 3]},\n",
       "             verbose=2)"
      ]
     },
     "execution_count": 93,
     "metadata": {},
     "output_type": "execute_result"
    }
   ],
   "source": [
    "gs_pipe.fit(X_train, y_train)"
   ]
  },
  {
   "cell_type": "code",
   "execution_count": 94,
   "metadata": {
    "ExecuteTime": {
     "end_time": "2021-10-28T03:34:17.201665Z",
     "start_time": "2021-10-28T03:34:17.183254Z"
    },
    "hidden": true
   },
   "outputs": [
    {
     "data": {
      "text/html": [
       "<div>\n",
       "<style scoped>\n",
       "    .dataframe tbody tr th:only-of-type {\n",
       "        vertical-align: middle;\n",
       "    }\n",
       "\n",
       "    .dataframe tbody tr th {\n",
       "        vertical-align: top;\n",
       "    }\n",
       "\n",
       "    .dataframe thead th {\n",
       "        text-align: right;\n",
       "    }\n",
       "</style>\n",
       "<table border=\"1\" class=\"dataframe\">\n",
       "  <thead>\n",
       "    <tr style=\"text-align: right;\">\n",
       "      <th></th>\n",
       "      <th>mean_fit_time</th>\n",
       "      <th>std_fit_time</th>\n",
       "      <th>mean_score_time</th>\n",
       "      <th>std_score_time</th>\n",
       "      <th>param_col_tr__num__ss__with_std</th>\n",
       "      <th>param_knn__n_neighbors</th>\n",
       "      <th>param_knn__p</th>\n",
       "      <th>params</th>\n",
       "      <th>split0_test_score</th>\n",
       "      <th>split1_test_score</th>\n",
       "      <th>split2_test_score</th>\n",
       "      <th>split3_test_score</th>\n",
       "      <th>split4_test_score</th>\n",
       "      <th>mean_test_score</th>\n",
       "      <th>std_test_score</th>\n",
       "      <th>rank_test_score</th>\n",
       "    </tr>\n",
       "  </thead>\n",
       "  <tbody>\n",
       "    <tr>\n",
       "      <th>0</th>\n",
       "      <td>0.008756</td>\n",
       "      <td>0.004355</td>\n",
       "      <td>0.005005</td>\n",
       "      <td>0.001222</td>\n",
       "      <td>True</td>\n",
       "      <td>3</td>\n",
       "      <td>1</td>\n",
       "      <td>{'col_tr__num__ss__with_std': True, 'knn__n_ne...</td>\n",
       "      <td>1.000000</td>\n",
       "      <td>1.000000</td>\n",
       "      <td>0.969697</td>\n",
       "      <td>1.000000</td>\n",
       "      <td>1.000000</td>\n",
       "      <td>0.993939</td>\n",
       "      <td>0.012121</td>\n",
       "      <td>1</td>\n",
       "    </tr>\n",
       "    <tr>\n",
       "      <th>1</th>\n",
       "      <td>0.003758</td>\n",
       "      <td>0.000173</td>\n",
       "      <td>0.002945</td>\n",
       "      <td>0.000152</td>\n",
       "      <td>True</td>\n",
       "      <td>3</td>\n",
       "      <td>2</td>\n",
       "      <td>{'col_tr__num__ss__with_std': True, 'knn__n_ne...</td>\n",
       "      <td>1.000000</td>\n",
       "      <td>1.000000</td>\n",
       "      <td>0.969697</td>\n",
       "      <td>1.000000</td>\n",
       "      <td>1.000000</td>\n",
       "      <td>0.993939</td>\n",
       "      <td>0.012121</td>\n",
       "      <td>1</td>\n",
       "    </tr>\n",
       "    <tr>\n",
       "      <th>2</th>\n",
       "      <td>0.003610</td>\n",
       "      <td>0.000039</td>\n",
       "      <td>0.002946</td>\n",
       "      <td>0.000108</td>\n",
       "      <td>True</td>\n",
       "      <td>3</td>\n",
       "      <td>3</td>\n",
       "      <td>{'col_tr__num__ss__with_std': True, 'knn__n_ne...</td>\n",
       "      <td>1.000000</td>\n",
       "      <td>1.000000</td>\n",
       "      <td>0.969697</td>\n",
       "      <td>1.000000</td>\n",
       "      <td>1.000000</td>\n",
       "      <td>0.993939</td>\n",
       "      <td>0.012121</td>\n",
       "      <td>1</td>\n",
       "    </tr>\n",
       "    <tr>\n",
       "      <th>3</th>\n",
       "      <td>0.003568</td>\n",
       "      <td>0.000063</td>\n",
       "      <td>0.002823</td>\n",
       "      <td>0.000053</td>\n",
       "      <td>True</td>\n",
       "      <td>5</td>\n",
       "      <td>1</td>\n",
       "      <td>{'col_tr__num__ss__with_std': True, 'knn__n_ne...</td>\n",
       "      <td>1.000000</td>\n",
       "      <td>1.000000</td>\n",
       "      <td>0.969697</td>\n",
       "      <td>1.000000</td>\n",
       "      <td>1.000000</td>\n",
       "      <td>0.993939</td>\n",
       "      <td>0.012121</td>\n",
       "      <td>1</td>\n",
       "    </tr>\n",
       "    <tr>\n",
       "      <th>4</th>\n",
       "      <td>0.003724</td>\n",
       "      <td>0.000258</td>\n",
       "      <td>0.003505</td>\n",
       "      <td>0.000660</td>\n",
       "      <td>True</td>\n",
       "      <td>5</td>\n",
       "      <td>2</td>\n",
       "      <td>{'col_tr__num__ss__with_std': True, 'knn__n_ne...</td>\n",
       "      <td>1.000000</td>\n",
       "      <td>1.000000</td>\n",
       "      <td>0.969697</td>\n",
       "      <td>1.000000</td>\n",
       "      <td>1.000000</td>\n",
       "      <td>0.993939</td>\n",
       "      <td>0.012121</td>\n",
       "      <td>1</td>\n",
       "    </tr>\n",
       "    <tr>\n",
       "      <th>5</th>\n",
       "      <td>0.003586</td>\n",
       "      <td>0.000070</td>\n",
       "      <td>0.002946</td>\n",
       "      <td>0.000096</td>\n",
       "      <td>True</td>\n",
       "      <td>5</td>\n",
       "      <td>3</td>\n",
       "      <td>{'col_tr__num__ss__with_std': True, 'knn__n_ne...</td>\n",
       "      <td>1.000000</td>\n",
       "      <td>1.000000</td>\n",
       "      <td>0.969697</td>\n",
       "      <td>1.000000</td>\n",
       "      <td>1.000000</td>\n",
       "      <td>0.993939</td>\n",
       "      <td>0.012121</td>\n",
       "      <td>1</td>\n",
       "    </tr>\n",
       "    <tr>\n",
       "      <th>6</th>\n",
       "      <td>0.003614</td>\n",
       "      <td>0.000055</td>\n",
       "      <td>0.002859</td>\n",
       "      <td>0.000087</td>\n",
       "      <td>True</td>\n",
       "      <td>7</td>\n",
       "      <td>1</td>\n",
       "      <td>{'col_tr__num__ss__with_std': True, 'knn__n_ne...</td>\n",
       "      <td>1.000000</td>\n",
       "      <td>1.000000</td>\n",
       "      <td>0.969697</td>\n",
       "      <td>0.969697</td>\n",
       "      <td>1.000000</td>\n",
       "      <td>0.987879</td>\n",
       "      <td>0.014845</td>\n",
       "      <td>7</td>\n",
       "    </tr>\n",
       "    <tr>\n",
       "      <th>7</th>\n",
       "      <td>0.003634</td>\n",
       "      <td>0.000101</td>\n",
       "      <td>0.002804</td>\n",
       "      <td>0.000054</td>\n",
       "      <td>True</td>\n",
       "      <td>7</td>\n",
       "      <td>2</td>\n",
       "      <td>{'col_tr__num__ss__with_std': True, 'knn__n_ne...</td>\n",
       "      <td>1.000000</td>\n",
       "      <td>1.000000</td>\n",
       "      <td>0.969697</td>\n",
       "      <td>0.969697</td>\n",
       "      <td>1.000000</td>\n",
       "      <td>0.987879</td>\n",
       "      <td>0.014845</td>\n",
       "      <td>7</td>\n",
       "    </tr>\n",
       "    <tr>\n",
       "      <th>8</th>\n",
       "      <td>0.003728</td>\n",
       "      <td>0.000289</td>\n",
       "      <td>0.003101</td>\n",
       "      <td>0.000163</td>\n",
       "      <td>True</td>\n",
       "      <td>7</td>\n",
       "      <td>3</td>\n",
       "      <td>{'col_tr__num__ss__with_std': True, 'knn__n_ne...</td>\n",
       "      <td>1.000000</td>\n",
       "      <td>1.000000</td>\n",
       "      <td>0.969697</td>\n",
       "      <td>0.969697</td>\n",
       "      <td>1.000000</td>\n",
       "      <td>0.987879</td>\n",
       "      <td>0.014845</td>\n",
       "      <td>7</td>\n",
       "    </tr>\n",
       "    <tr>\n",
       "      <th>9</th>\n",
       "      <td>0.004284</td>\n",
       "      <td>0.001070</td>\n",
       "      <td>0.003168</td>\n",
       "      <td>0.000374</td>\n",
       "      <td>False</td>\n",
       "      <td>3</td>\n",
       "      <td>1</td>\n",
       "      <td>{'col_tr__num__ss__with_std': False, 'knn__n_n...</td>\n",
       "      <td>0.794118</td>\n",
       "      <td>0.727273</td>\n",
       "      <td>0.727273</td>\n",
       "      <td>0.515152</td>\n",
       "      <td>0.878788</td>\n",
       "      <td>0.728520</td>\n",
       "      <td>0.120343</td>\n",
       "      <td>10</td>\n",
       "    </tr>\n",
       "    <tr>\n",
       "      <th>10</th>\n",
       "      <td>0.003616</td>\n",
       "      <td>0.000221</td>\n",
       "      <td>0.002915</td>\n",
       "      <td>0.000077</td>\n",
       "      <td>False</td>\n",
       "      <td>3</td>\n",
       "      <td>2</td>\n",
       "      <td>{'col_tr__num__ss__with_std': False, 'knn__n_n...</td>\n",
       "      <td>0.764706</td>\n",
       "      <td>0.727273</td>\n",
       "      <td>0.727273</td>\n",
       "      <td>0.515152</td>\n",
       "      <td>0.878788</td>\n",
       "      <td>0.722638</td>\n",
       "      <td>0.117683</td>\n",
       "      <td>11</td>\n",
       "    </tr>\n",
       "    <tr>\n",
       "      <th>11</th>\n",
       "      <td>0.003815</td>\n",
       "      <td>0.000589</td>\n",
       "      <td>0.003058</td>\n",
       "      <td>0.000346</td>\n",
       "      <td>False</td>\n",
       "      <td>3</td>\n",
       "      <td>3</td>\n",
       "      <td>{'col_tr__num__ss__with_std': False, 'knn__n_n...</td>\n",
       "      <td>0.764706</td>\n",
       "      <td>0.727273</td>\n",
       "      <td>0.727273</td>\n",
       "      <td>0.515152</td>\n",
       "      <td>0.848485</td>\n",
       "      <td>0.716578</td>\n",
       "      <td>0.110016</td>\n",
       "      <td>12</td>\n",
       "    </tr>\n",
       "    <tr>\n",
       "      <th>12</th>\n",
       "      <td>0.003463</td>\n",
       "      <td>0.000076</td>\n",
       "      <td>0.002843</td>\n",
       "      <td>0.000064</td>\n",
       "      <td>False</td>\n",
       "      <td>5</td>\n",
       "      <td>1</td>\n",
       "      <td>{'col_tr__num__ss__with_std': False, 'knn__n_n...</td>\n",
       "      <td>0.647059</td>\n",
       "      <td>0.696970</td>\n",
       "      <td>0.757576</td>\n",
       "      <td>0.545455</td>\n",
       "      <td>0.818182</td>\n",
       "      <td>0.693048</td>\n",
       "      <td>0.093527</td>\n",
       "      <td>13</td>\n",
       "    </tr>\n",
       "    <tr>\n",
       "      <th>13</th>\n",
       "      <td>0.003492</td>\n",
       "      <td>0.000074</td>\n",
       "      <td>0.002804</td>\n",
       "      <td>0.000073</td>\n",
       "      <td>False</td>\n",
       "      <td>5</td>\n",
       "      <td>2</td>\n",
       "      <td>{'col_tr__num__ss__with_std': False, 'knn__n_n...</td>\n",
       "      <td>0.617647</td>\n",
       "      <td>0.727273</td>\n",
       "      <td>0.727273</td>\n",
       "      <td>0.515152</td>\n",
       "      <td>0.818182</td>\n",
       "      <td>0.681105</td>\n",
       "      <td>0.104518</td>\n",
       "      <td>14</td>\n",
       "    </tr>\n",
       "    <tr>\n",
       "      <th>14</th>\n",
       "      <td>0.003404</td>\n",
       "      <td>0.000009</td>\n",
       "      <td>0.002884</td>\n",
       "      <td>0.000069</td>\n",
       "      <td>False</td>\n",
       "      <td>5</td>\n",
       "      <td>3</td>\n",
       "      <td>{'col_tr__num__ss__with_std': False, 'knn__n_n...</td>\n",
       "      <td>0.617647</td>\n",
       "      <td>0.727273</td>\n",
       "      <td>0.727273</td>\n",
       "      <td>0.515152</td>\n",
       "      <td>0.818182</td>\n",
       "      <td>0.681105</td>\n",
       "      <td>0.104518</td>\n",
       "      <td>14</td>\n",
       "    </tr>\n",
       "    <tr>\n",
       "      <th>15</th>\n",
       "      <td>0.003687</td>\n",
       "      <td>0.000426</td>\n",
       "      <td>0.003058</td>\n",
       "      <td>0.000287</td>\n",
       "      <td>False</td>\n",
       "      <td>7</td>\n",
       "      <td>1</td>\n",
       "      <td>{'col_tr__num__ss__with_std': False, 'knn__n_n...</td>\n",
       "      <td>0.676471</td>\n",
       "      <td>0.696970</td>\n",
       "      <td>0.727273</td>\n",
       "      <td>0.484848</td>\n",
       "      <td>0.818182</td>\n",
       "      <td>0.680749</td>\n",
       "      <td>0.109280</td>\n",
       "      <td>16</td>\n",
       "    </tr>\n",
       "    <tr>\n",
       "      <th>16</th>\n",
       "      <td>0.003671</td>\n",
       "      <td>0.000178</td>\n",
       "      <td>0.003040</td>\n",
       "      <td>0.000122</td>\n",
       "      <td>False</td>\n",
       "      <td>7</td>\n",
       "      <td>2</td>\n",
       "      <td>{'col_tr__num__ss__with_std': False, 'knn__n_n...</td>\n",
       "      <td>0.676471</td>\n",
       "      <td>0.696970</td>\n",
       "      <td>0.727273</td>\n",
       "      <td>0.484848</td>\n",
       "      <td>0.818182</td>\n",
       "      <td>0.680749</td>\n",
       "      <td>0.109280</td>\n",
       "      <td>16</td>\n",
       "    </tr>\n",
       "    <tr>\n",
       "      <th>17</th>\n",
       "      <td>0.003471</td>\n",
       "      <td>0.000116</td>\n",
       "      <td>0.002989</td>\n",
       "      <td>0.000155</td>\n",
       "      <td>False</td>\n",
       "      <td>7</td>\n",
       "      <td>3</td>\n",
       "      <td>{'col_tr__num__ss__with_std': False, 'knn__n_n...</td>\n",
       "      <td>0.676471</td>\n",
       "      <td>0.696970</td>\n",
       "      <td>0.727273</td>\n",
       "      <td>0.484848</td>\n",
       "      <td>0.818182</td>\n",
       "      <td>0.680749</td>\n",
       "      <td>0.109280</td>\n",
       "      <td>16</td>\n",
       "    </tr>\n",
       "  </tbody>\n",
       "</table>\n",
       "</div>"
      ],
      "text/plain": [
       "    mean_fit_time  std_fit_time  mean_score_time  std_score_time  \\\n",
       "0        0.008756      0.004355         0.005005        0.001222   \n",
       "1        0.003758      0.000173         0.002945        0.000152   \n",
       "2        0.003610      0.000039         0.002946        0.000108   \n",
       "3        0.003568      0.000063         0.002823        0.000053   \n",
       "4        0.003724      0.000258         0.003505        0.000660   \n",
       "5        0.003586      0.000070         0.002946        0.000096   \n",
       "6        0.003614      0.000055         0.002859        0.000087   \n",
       "7        0.003634      0.000101         0.002804        0.000054   \n",
       "8        0.003728      0.000289         0.003101        0.000163   \n",
       "9        0.004284      0.001070         0.003168        0.000374   \n",
       "10       0.003616      0.000221         0.002915        0.000077   \n",
       "11       0.003815      0.000589         0.003058        0.000346   \n",
       "12       0.003463      0.000076         0.002843        0.000064   \n",
       "13       0.003492      0.000074         0.002804        0.000073   \n",
       "14       0.003404      0.000009         0.002884        0.000069   \n",
       "15       0.003687      0.000426         0.003058        0.000287   \n",
       "16       0.003671      0.000178         0.003040        0.000122   \n",
       "17       0.003471      0.000116         0.002989        0.000155   \n",
       "\n",
       "   param_col_tr__num__ss__with_std param_knn__n_neighbors param_knn__p  \\\n",
       "0                             True                      3            1   \n",
       "1                             True                      3            2   \n",
       "2                             True                      3            3   \n",
       "3                             True                      5            1   \n",
       "4                             True                      5            2   \n",
       "5                             True                      5            3   \n",
       "6                             True                      7            1   \n",
       "7                             True                      7            2   \n",
       "8                             True                      7            3   \n",
       "9                            False                      3            1   \n",
       "10                           False                      3            2   \n",
       "11                           False                      3            3   \n",
       "12                           False                      5            1   \n",
       "13                           False                      5            2   \n",
       "14                           False                      5            3   \n",
       "15                           False                      7            1   \n",
       "16                           False                      7            2   \n",
       "17                           False                      7            3   \n",
       "\n",
       "                                               params  split0_test_score  \\\n",
       "0   {'col_tr__num__ss__with_std': True, 'knn__n_ne...           1.000000   \n",
       "1   {'col_tr__num__ss__with_std': True, 'knn__n_ne...           1.000000   \n",
       "2   {'col_tr__num__ss__with_std': True, 'knn__n_ne...           1.000000   \n",
       "3   {'col_tr__num__ss__with_std': True, 'knn__n_ne...           1.000000   \n",
       "4   {'col_tr__num__ss__with_std': True, 'knn__n_ne...           1.000000   \n",
       "5   {'col_tr__num__ss__with_std': True, 'knn__n_ne...           1.000000   \n",
       "6   {'col_tr__num__ss__with_std': True, 'knn__n_ne...           1.000000   \n",
       "7   {'col_tr__num__ss__with_std': True, 'knn__n_ne...           1.000000   \n",
       "8   {'col_tr__num__ss__with_std': True, 'knn__n_ne...           1.000000   \n",
       "9   {'col_tr__num__ss__with_std': False, 'knn__n_n...           0.794118   \n",
       "10  {'col_tr__num__ss__with_std': False, 'knn__n_n...           0.764706   \n",
       "11  {'col_tr__num__ss__with_std': False, 'knn__n_n...           0.764706   \n",
       "12  {'col_tr__num__ss__with_std': False, 'knn__n_n...           0.647059   \n",
       "13  {'col_tr__num__ss__with_std': False, 'knn__n_n...           0.617647   \n",
       "14  {'col_tr__num__ss__with_std': False, 'knn__n_n...           0.617647   \n",
       "15  {'col_tr__num__ss__with_std': False, 'knn__n_n...           0.676471   \n",
       "16  {'col_tr__num__ss__with_std': False, 'knn__n_n...           0.676471   \n",
       "17  {'col_tr__num__ss__with_std': False, 'knn__n_n...           0.676471   \n",
       "\n",
       "    split1_test_score  split2_test_score  split3_test_score  \\\n",
       "0            1.000000           0.969697           1.000000   \n",
       "1            1.000000           0.969697           1.000000   \n",
       "2            1.000000           0.969697           1.000000   \n",
       "3            1.000000           0.969697           1.000000   \n",
       "4            1.000000           0.969697           1.000000   \n",
       "5            1.000000           0.969697           1.000000   \n",
       "6            1.000000           0.969697           0.969697   \n",
       "7            1.000000           0.969697           0.969697   \n",
       "8            1.000000           0.969697           0.969697   \n",
       "9            0.727273           0.727273           0.515152   \n",
       "10           0.727273           0.727273           0.515152   \n",
       "11           0.727273           0.727273           0.515152   \n",
       "12           0.696970           0.757576           0.545455   \n",
       "13           0.727273           0.727273           0.515152   \n",
       "14           0.727273           0.727273           0.515152   \n",
       "15           0.696970           0.727273           0.484848   \n",
       "16           0.696970           0.727273           0.484848   \n",
       "17           0.696970           0.727273           0.484848   \n",
       "\n",
       "    split4_test_score  mean_test_score  std_test_score  rank_test_score  \n",
       "0            1.000000         0.993939        0.012121                1  \n",
       "1            1.000000         0.993939        0.012121                1  \n",
       "2            1.000000         0.993939        0.012121                1  \n",
       "3            1.000000         0.993939        0.012121                1  \n",
       "4            1.000000         0.993939        0.012121                1  \n",
       "5            1.000000         0.993939        0.012121                1  \n",
       "6            1.000000         0.987879        0.014845                7  \n",
       "7            1.000000         0.987879        0.014845                7  \n",
       "8            1.000000         0.987879        0.014845                7  \n",
       "9            0.878788         0.728520        0.120343               10  \n",
       "10           0.878788         0.722638        0.117683               11  \n",
       "11           0.848485         0.716578        0.110016               12  \n",
       "12           0.818182         0.693048        0.093527               13  \n",
       "13           0.818182         0.681105        0.104518               14  \n",
       "14           0.818182         0.681105        0.104518               14  \n",
       "15           0.818182         0.680749        0.109280               16  \n",
       "16           0.818182         0.680749        0.109280               16  \n",
       "17           0.818182         0.680749        0.109280               16  "
      ]
     },
     "execution_count": 94,
     "metadata": {},
     "output_type": "execute_result"
    }
   ],
   "source": [
    "pd.DataFrame(gs_pipe.cv_results_)"
   ]
  },
  {
   "cell_type": "code",
   "execution_count": 95,
   "metadata": {
    "ExecuteTime": {
     "end_time": "2021-10-28T03:34:17.390365Z",
     "start_time": "2021-10-28T03:34:17.386703Z"
    },
    "hidden": true,
    "scrolled": true
   },
   "outputs": [
    {
     "data": {
      "text/plain": [
       "{'col_tr__num__ss__with_std': True, 'knn__n_neighbors': 3, 'knn__p': 1}"
      ]
     },
     "execution_count": 95,
     "metadata": {},
     "output_type": "execute_result"
    }
   ],
   "source": [
    "gs_pipe.best_params_"
   ]
  },
  {
   "cell_type": "markdown",
   "metadata": {
    "heading_collapsed": true,
    "hidden": true
   },
   "source": [
    "## A Note on Data Leakage"
   ]
  },
  {
   "cell_type": "code",
   "execution_count": 97,
   "metadata": {},
   "outputs": [
    {
     "data": {
      "text/plain": [
       "0.9940119760479041"
      ]
     },
     "execution_count": 97,
     "metadata": {},
     "output_type": "execute_result"
    }
   ],
   "source": [
    "gs_pipe.best_estimator_.score(X_test, y_test)"
   ]
  },
  {
   "cell_type": "markdown",
   "metadata": {
    "hidden": true
   },
   "source": [
    "Note we still have to be careful in performing a grid search!\n",
    "\n",
    "We can accidentally \"leak\" information by doing transformations with the **whole data set**, instead of just the **training set**!"
   ]
  },
  {
   "cell_type": "markdown",
   "metadata": {
    "heading_collapsed": true,
    "hidden": true
   },
   "source": [
    "### Example of leaking information"
   ]
  },
  {
   "cell_type": "code",
   "execution_count": 98,
   "metadata": {
    "ExecuteTime": {
     "end_time": "2021-10-28T03:34:20.651129Z",
     "start_time": "2021-10-28T03:34:20.342682Z"
    },
    "hidden": true
   },
   "outputs": [
    {
     "data": {
      "text/plain": [
       "GridSearchCV(estimator=KNeighborsClassifier(),\n",
       "             param_grid={'metric': ['minkowski', 'manhattan'],\n",
       "                         'n_neighbors': [1, 3, 5],\n",
       "                         'weights': ['uniform', 'distance']})"
      ]
     },
     "execution_count": 98,
     "metadata": {},
     "output_type": "execute_result"
    }
   ],
   "source": [
    "scaler = StandardScaler()\n",
    "# Scales over all of the X-train data! (validation set will be considered in scaling)\n",
    "scaled_data = scaler.fit_transform(X_train.select_dtypes('float64'))\n",
    "\n",
    "parameters = {\n",
    "    'n_neighbors': [1, 3, 5],\n",
    "    'metric': ['minkowski', 'manhattan'],\n",
    "    'weights': ['uniform', 'distance']\n",
    "}\n",
    "\n",
    "clf_dt = KNeighborsClassifier()\n",
    "clf = GridSearchCV(clf_dt, parameters)\n",
    "clf.fit(X_train.select_dtypes('float64'), y_train)"
   ]
  },
  {
   "cell_type": "markdown",
   "metadata": {
    "heading_collapsed": true,
    "hidden": true
   },
   "source": [
    "### Example of Grid Search with no leakage"
   ]
  },
  {
   "cell_type": "code",
   "execution_count": 99,
   "metadata": {
    "ExecuteTime": {
     "end_time": "2021-10-28T03:34:23.982285Z",
     "start_time": "2021-10-28T03:34:23.221271Z"
    },
    "hidden": true,
    "scrolled": true
   },
   "outputs": [
    {
     "name": "stdout",
     "output_type": "stream",
     "text": [
      "['Adelie' 'Gentoo' 'Adelie' 'Chinstrap' 'Adelie' 'Gentoo' 'Gentoo'\n",
      " 'Chinstrap' 'Chinstrap' 'Chinstrap' 'Adelie' 'Adelie' 'Gentoo' 'Adelie'\n",
      " 'Gentoo' 'Adelie' 'Adelie' 'Chinstrap' 'Adelie' 'Gentoo' 'Adelie'\n",
      " 'Adelie' 'Gentoo' 'Chinstrap' 'Adelie' 'Adelie' 'Gentoo' 'Gentoo'\n",
      " 'Chinstrap' 'Gentoo' 'Chinstrap' 'Gentoo' 'Adelie' 'Adelie' 'Gentoo'\n",
      " 'Gentoo' 'Chinstrap' 'Gentoo' 'Adelie' 'Adelie' 'Adelie' 'Adelie'\n",
      " 'Chinstrap' 'Chinstrap' 'Adelie' 'Adelie' 'Gentoo' 'Adelie' 'Adelie'\n",
      " 'Gentoo' 'Adelie' 'Gentoo' 'Gentoo' 'Adelie' 'Adelie' 'Gentoo'\n",
      " 'Chinstrap' 'Adelie' 'Chinstrap' 'Chinstrap' 'Gentoo' 'Gentoo' 'Gentoo'\n",
      " 'Adelie' 'Adelie' 'Gentoo' 'Adelie' 'Gentoo' 'Adelie' 'Gentoo' 'Adelie'\n",
      " 'Adelie' 'Gentoo' 'Gentoo' 'Gentoo' 'Chinstrap' 'Adelie' 'Adelie'\n",
      " 'Adelie' 'Gentoo' 'Chinstrap' 'Adelie' 'Chinstrap' 'Adelie' 'Gentoo'\n",
      " 'Gentoo' 'Adelie' 'Gentoo' 'Chinstrap' 'Chinstrap' 'Gentoo' 'Gentoo'\n",
      " 'Adelie' 'Adelie' 'Adelie' 'Adelie' 'Adelie' 'Chinstrap' 'Adelie'\n",
      " 'Adelie' 'Adelie' 'Gentoo' 'Gentoo' 'Adelie' 'Chinstrap' 'Adelie'\n",
      " 'Gentoo' 'Gentoo' 'Adelie' 'Chinstrap' 'Adelie' 'Gentoo' 'Adelie'\n",
      " 'Chinstrap' 'Chinstrap' 'Chinstrap' 'Adelie' 'Gentoo' 'Adelie'\n",
      " 'Chinstrap' 'Adelie' 'Chinstrap' 'Gentoo' 'Adelie' 'Adelie' 'Gentoo'\n",
      " 'Adelie' 'Adelie' 'Adelie' 'Chinstrap' 'Adelie' 'Adelie' 'Chinstrap'\n",
      " 'Adelie' 'Adelie' 'Adelie' 'Gentoo' 'Chinstrap' 'Gentoo' 'Adelie'\n",
      " 'Chinstrap' 'Gentoo' 'Adelie' 'Gentoo' 'Chinstrap' 'Gentoo' 'Chinstrap'\n",
      " 'Gentoo' 'Gentoo' 'Gentoo' 'Chinstrap' 'Gentoo' 'Adelie' 'Adelie'\n",
      " 'Gentoo' 'Chinstrap' 'Chinstrap' 'Adelie' 'Chinstrap' 'Chinstrap'\n",
      " 'Adelie' 'Gentoo' 'Gentoo' 'Gentoo' 'Chinstrap' 'Gentoo' 'Gentoo']\n"
     ]
    }
   ],
   "source": [
    "pipeline = Pipeline([\n",
    "    ('scaler', StandardScaler()),\n",
    "    ('clf', KNeighborsClassifier())\n",
    "])\n",
    "\n",
    "# Note you use the part of the pipeline's name `NAME__{parameter}`\n",
    "parameters = {\n",
    "    'scaler__with_mean': [True, False],\n",
    "    'clf__n_neighbors': [1, 3, 5],\n",
    "    'clf__metric': ['minkowski', 'manhattan'],\n",
    "    'clf__weights': ['uniform', 'distance']\n",
    "}\n",
    "\n",
    "cv = GridSearchCV(pipeline, param_grid=parameters)\n",
    "\n",
    "cv.fit(X_train.select_dtypes('float64'), y_train)\n",
    "y_pred = cv.predict(X_test.select_dtypes('float64'))\n",
    "print(y_pred)"
   ]
  },
  {
   "cell_type": "markdown",
   "metadata": {
    "heading_collapsed": true
   },
   "source": [
    "# Grid Search Exercise"
   ]
  },
  {
   "cell_type": "markdown",
   "metadata": {
    "hidden": true
   },
   "source": [
    "Use a classifier of your choice to predict the category of price range for the phones in this dataset. Try tuning some hyperparameters using a grid search, and then write up a short paragraph about your findings."
   ]
  },
  {
   "cell_type": "code",
   "execution_count": 100,
   "metadata": {
    "ExecuteTime": {
     "end_time": "2021-10-28T03:34:38.974212Z",
     "start_time": "2021-10-28T03:34:38.957557Z"
    },
    "hidden": true
   },
   "outputs": [],
   "source": [
    "phones_train = pd.read_csv('data/train.csv')\n",
    "phones_test = pd.read_csv('data/test.csv')"
   ]
  },
  {
   "cell_type": "markdown",
   "metadata": {
    "heading_collapsed": true
   },
   "source": [
    "# Level Up: Random Searching"
   ]
  },
  {
   "cell_type": "markdown",
   "metadata": {
    "hidden": true
   },
   "source": [
    "It is also possible to search for good hyperparameter values randomly. This is a nice choice if computation time is an issue or if you are tuning over continuous hyperparameters."
   ]
  },
  {
   "cell_type": "markdown",
   "metadata": {
    "heading_collapsed": true,
    "hidden": true
   },
   "source": [
    "### `RandomizedSearchCV` with `LogisticRegression`"
   ]
  },
  {
   "cell_type": "code",
   "execution_count": 101,
   "metadata": {
    "ExecuteTime": {
     "end_time": "2021-10-28T03:34:46.731177Z",
     "start_time": "2021-10-28T03:34:46.727225Z"
    },
    "hidden": true
   },
   "outputs": [],
   "source": [
    "log_reg_grid = {'C': stats.uniform(loc=0, scale=10),\n",
    "               'l1_ratio': stats.expon(scale=0.2)}"
   ]
  },
  {
   "cell_type": "code",
   "execution_count": 102,
   "metadata": {
    "ExecuteTime": {
     "end_time": "2021-10-28T03:34:49.166819Z",
     "start_time": "2021-10-28T03:34:48.678224Z"
    },
    "hidden": true
   },
   "outputs": [
    {
     "data": {
      "text/plain": [
       "{'C': 3.745401188473625, 'l1_ratio': 0.6020242861835042}"
      ]
     },
     "execution_count": 102,
     "metadata": {},
     "output_type": "execute_result"
    }
   ],
   "source": [
    "rs = RandomizedSearchCV(estimator=LogisticRegression(penalty='elasticnet',\n",
    "                                                    solver='saga',\n",
    "                                                    max_iter=1000,\n",
    "                                                    random_state=42),\n",
    "                        param_distributions=log_reg_grid,\n",
    "                       random_state=42)\n",
    "\n",
    "rs.fit(X_train_clean, y_train)\n",
    "\n",
    "rs.best_params_"
   ]
  },
  {
   "cell_type": "markdown",
   "metadata": {},
   "source": [
    "To be fed into the model, COMPLETELY random variables within a defined range:"
   ]
  },
  {
   "cell_type": "code",
   "execution_count": 107,
   "metadata": {},
   "outputs": [
    {
     "data": {
      "text/plain": [
       "array([0.0607168 , 0.47653486, 0.01733159, 0.45699672, 0.05987894,\n",
       "       0.26314416, 0.05818637, 0.30007099, 0.0406602 , 0.00566368])"
      ]
     },
     "execution_count": 107,
     "metadata": {},
     "output_type": "execute_result"
    }
   ],
   "source": [
    "stats.expon(scale=0.2).rvs(10)"
   ]
  },
  {
   "cell_type": "code",
   "execution_count": 108,
   "metadata": {},
   "outputs": [
    {
     "data": {
      "text/plain": [
       "array([6.41568907, 4.35037814, 0.40920893, 8.10626632, 0.48652571,\n",
       "       4.78353128, 7.9975691 , 7.4167209 , 5.13235061, 2.18496002])"
      ]
     },
     "execution_count": 108,
     "metadata": {},
     "output_type": "execute_result"
    }
   ],
   "source": [
    "stats.uniform(loc=0, scale=10).rvs(10)"
   ]
  },
  {
   "cell_type": "markdown",
   "metadata": {
    "ExecuteTime": {
     "end_time": "2021-10-27T21:03:32.018295Z",
     "start_time": "2021-10-27T21:03:32.015972Z"
    }
   },
   "source": [
    "# Level Up: SMOTE"
   ]
  },
  {
   "cell_type": "markdown",
   "metadata": {},
   "source": [
    "Often we encounter a problem of imbalance classification that there are too few observations of the minority class for a model to effectively learn the decision boundary. \n",
    "\n",
    "One way to solve this problem is to **oversample** the observations in the minority class (or alternatively **undersample** the observations in the majority class) by synthesizing new observation from the minority class.\n",
    "\n",
    "The most widely used approach to synthesizing new observations is called the **Synthetic Minority Oversampling Technique**, or **SMOTE** for short. \n",
    "\n",
    "Resource: https://arxiv.org/abs/1106.1813\n",
    "\n",
    "Before getting into the example, please note the following,\n",
    "\n",
    "1. Oversampling process is based on **k-nearest neighbors** of the minority class.\n",
    "2. Oversampling only works with **numerical predictors** since the synthetic observations are created based on the k-nearest neighbors algorithm, which is a distance based algorithm.  \n",
    "\n",
    "We use the Scikit-Learn's breast cancer dataset to demonstrate the use of SMOTE from imblearn package."
   ]
  },
  {
   "cell_type": "code",
   "execution_count": 109,
   "metadata": {
    "ExecuteTime": {
     "end_time": "2021-10-28T03:40:52.976867Z",
     "start_time": "2021-10-28T03:40:52.960326Z"
    }
   },
   "outputs": [],
   "source": [
    "from sklearn.datasets import load_breast_cancer\n",
    "\n",
    "# Load the data\n",
    "preds, target = load_breast_cancer(return_X_y=True)\n",
    "\n",
    "# Split into train and test\n",
    "X_train, X_test, y_train, y_test = train_test_split(preds, target,\n",
    "                                                   random_state=42)"
   ]
  },
  {
   "cell_type": "code",
   "execution_count": 110,
   "metadata": {
    "ExecuteTime": {
     "end_time": "2021-10-28T04:05:58.031838Z",
     "start_time": "2021-10-28T04:05:58.029009Z"
    }
   },
   "outputs": [],
   "source": [
    "# Import imblearn dependencies\n",
    "from imblearn.over_sampling import SMOTE\n",
    "from imblearn.under_sampling import RandomUnderSampler\n",
    "from imblearn.pipeline import Pipeline as imbPipeline\n",
    "from collections import Counter\n",
    "from matplotlib import pyplot\n",
    "from numpy import where"
   ]
  },
  {
   "cell_type": "markdown",
   "metadata": {},
   "source": [
    "Note that we have an imbalance class for the target variable in this dataset."
   ]
  },
  {
   "cell_type": "code",
   "execution_count": 112,
   "metadata": {
    "ExecuteTime": {
     "end_time": "2021-10-28T03:52:29.498843Z",
     "start_time": "2021-10-28T03:52:29.235296Z"
    }
   },
   "outputs": [
    {
     "name": "stdout",
     "output_type": "stream",
     "text": [
      "Counter({1: 268, 0: 158})\n"
     ]
    },
    {
     "data": {
      "image/png": "[encoded data removed]",
      "text/plain": [
       "<Figure size 432x288 with 1 Axes>"
      ]
     },
     "metadata": {
      "needs_background": "light"
     },
     "output_type": "display_data"
    }
   ],
   "source": [
    "# Check the class distribution of the target\n",
    "counter = Counter(y_train)\n",
    "print(counter)\n",
    "\n",
    "# scatter plot of examples by class label\n",
    "for label, _ in counter.items():\n",
    "    row_ix = where(y_train == label)[0]\n",
    "    pyplot.scatter(X_train[row_ix, 0], X_train[row_ix, 1], label=str(label))\n",
    "pyplot.legend()\n",
    "pyplot.show()"
   ]
  },
  {
   "cell_type": "code",
   "execution_count": 114,
   "metadata": {
    "ExecuteTime": {
     "end_time": "2021-10-28T03:48:44.180793Z",
     "start_time": "2021-10-28T03:48:44.174593Z"
    }
   },
   "outputs": [],
   "source": [
    "# Create the oversampler and undersampler objects\n",
    "over = SMOTE(sampling_strategy=0.7)\n",
    "under = RandomUnderSampler(sampling_strategy=0.8)\n",
    "\n",
    "# transform the dataset\n",
    "X, y = under.fit_resample(X_train, y_train)"
   ]
  },
  {
   "cell_type": "markdown",
   "metadata": {},
   "source": [
    "After the oversampling and undersampling process, we observe a more balance class distribution in the target variable."
   ]
  },
  {
   "cell_type": "code",
   "execution_count": 115,
   "metadata": {
    "ExecuteTime": {
     "end_time": "2021-10-28T03:53:00.623842Z",
     "start_time": "2021-10-28T03:53:00.365844Z"
    }
   },
   "outputs": [
    {
     "name": "stdout",
     "output_type": "stream",
     "text": [
      "Counter({1: 197, 0: 158})\n"
     ]
    },
    {
     "data": {
      "image/png": "[encoded data removed]",
      "text/plain": [
       "<Figure size 432x288 with 1 Axes>"
      ]
     },
     "metadata": {
      "needs_background": "light"
     },
     "output_type": "display_data"
    }
   ],
   "source": [
    "# Check the class distribution of the target\n",
    "counter = Counter(y)\n",
    "print(counter)\n",
    "\n",
    "# scatter plot of examples by class label\n",
    "for label, _ in counter.items():\n",
    "    row_ix = where(y == label)[0]\n",
    "    pyplot.scatter(X_train[row_ix, 0], X_train[row_ix, 1], label=str(label))\n",
    "pyplot.legend()\n",
    "pyplot.show()"
   ]
  },
  {
   "cell_type": "code",
   "execution_count": 116,
   "metadata": {
    "ExecuteTime": {
     "end_time": "2021-10-28T04:06:22.089385Z",
     "start_time": "2021-10-28T04:06:21.429799Z"
    }
   },
   "outputs": [
    {
     "name": "stdout",
     "output_type": "stream",
     "text": [
      "[1 0 0 1 1 0 0 0 0 1 1 0 1 1 1 0 1 1 1 0 1 1 0 1 1 1 1 1 1 0 1 1 1 1 1 1 0\n",
      " 1 0 1 1 0 1 1 1 1 1 1 1 1 0 0 1 1 1 1 1 0 0 1 1 0 0 1 1 1 0 0 1 1 0 0 1 0\n",
      " 1 1 1 1 1 1 0 1 1 0 0 0 0 0 1 1 1 1 1 1 1 1 0 0 1 0 0 1 0 0 1 1 1 0 1 1 0\n",
      " 1 1 0 1 0 1 1 1 0 1 1 1 0 1 0 0 1 1 0 0 0 1 1 1 0 0 1 1 0 1 0 1]\n"
     ]
    }
   ],
   "source": [
    "# Create imblearn pipeline for the oversampler and undersampler\n",
    "steps = [('o', over), ('u', under),('scale', StandardScaler()),\n",
    "         ('model', DecisionTreeClassifier())]\n",
    "pipeline = imbPipeline(steps=steps)\n",
    "\n",
    "\n",
    "# Create the GridSearchCV object with different hyperparameters\n",
    "parameters = {\n",
    "    'model__max_depth': [2, 4, 6, 8],\n",
    "    'model__min_samples_split': [5, 10, 15],\n",
    "    'model__criterion': ['gini', 'entropy']\n",
    "}\n",
    "\n",
    "cv = GridSearchCV(pipeline, param_grid=parameters)\n",
    "\n",
    "cv.fit(X_train, y_train)\n",
    "\n",
    "# Predict the label with the best model\n",
    "y_pred = cv.predict(X_test)\n",
    "print(y_pred)"
   ]
  },
  {
   "cell_type": "code",
   "execution_count": null,
   "metadata": {},
   "outputs": [],
   "source": []
  }
 ],
 "metadata": {
  "hide_input": false,
  "kernelspec": {
   "display_name": "Python (learn-env)",
   "language": "python",
   "name": "learn-env"
  },
  "language_info": {
   "codemirror_mode": {
    "name": "ipython",
    "version": 3
   },
   "file_extension": ".py",
   "mimetype": "text/x-python",
   "name": "python",
   "nbconvert_exporter": "python",
   "pygments_lexer": "ipython3",
   "version": "3.8.5"
  },
  "latex_envs": {
   "LaTeX_envs_menu_present": true,
   "autoclose": false,
   "autocomplete": true,
   "bibliofile": "biblio.bib",
   "cite_by": "apalike",
   "current_citInitial": 1,
   "eqLabelWithNumbers": true,
   "eqNumInitial": 1,
   "hotkeys": {
    "equation": "Ctrl-E",
    "itemize": "Ctrl-I"
   },
   "labels_anchors": false,
   "latex_user_defs": false,
   "report_style_numbering": false,
   "user_envs_cfg": false
  },
  "nbTranslate": {
   "displayLangs": [
    "*"
   ],
   "hotkey": "alt-t",
   "langInMainMenu": true,
   "sourceLang": "en",
   "targetLang": "fr",
   "useGoogleTranslate": true
  },
  "toc": {
   "base_numbering": 1,
   "nav_menu": {},
   "number_sections": true,
   "sideBar": true,
   "skip_h1_title": false,
   "title_cell": "Table of Contents",
   "title_sidebar": "TOC",
   "toc_cell": true,
   "toc_position": {
    "height": "calc(100% - 180px)",
    "left": "10px",
    "top": "150px",
    "width": "232px"
   },
   "toc_section_display": true,
   "toc_window_display": false
  }
 },
 "nbformat": 4,
 "nbformat_minor": 4
}
