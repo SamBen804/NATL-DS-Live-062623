{
 "cells": [
  {
   "cell_type": "markdown",
   "metadata": {},
   "source": [
    "# THE MONTY HALL PROBLEM"
   ]
  },
  {
   "cell_type": "markdown",
   "metadata": {},
   "source": [
    "### A hypothetical game show"
   ]
  },
  {
   "cell_type": "markdown",
   "metadata": {},
   "source": [
    "- Three doors, one with a car behind, two with goats (random equal chance)\n",
    "- Contestant chooses one door\n",
    "- The host then opens one of the other doors\n",
    "    - The host will always opens one of the goat doors, and never the car door\n",
    "- The contestant is left with two doors, the one the picked at the start and the un-releaved one\n",
    "    - Contestant is giving the choice of staying or switching doors\n",
    "- Which option gives the contestant a higher probability of winning the car?"
   ]
  },
  {
   "cell_type": "code",
   "execution_count": 2,
   "metadata": {},
   "outputs": [],
   "source": [
    "import numpy as np\n",
    "import matplotlib.pyplot as plt\n",
    "import seaborn as sns\n",
    "%matplotlib inline\n",
    "sns.set_style('darkgrid')"
   ]
  },
  {
   "cell_type": "code",
   "execution_count": 10,
   "metadata": {},
   "outputs": [],
   "source": [
    "doors = [1, 2, 3]\n",
    "car_door = np.random.randint(1,4)"
   ]
  },
  {
   "cell_type": "code",
   "execution_count": 11,
   "metadata": {},
   "outputs": [
    {
     "name": "stdout",
     "output_type": "stream",
     "text": [
      "Please pick a door between 1 and 3: 2\n"
     ]
    }
   ],
   "source": [
    "picked_door = int(input('Please pick a door between 1 and 3: '))"
   ]
  },
  {
   "cell_type": "code",
   "execution_count": 12,
   "metadata": {},
   "outputs": [],
   "source": [
    "goat_doors = [door for door in doors if door != car_door]"
   ]
  },
  {
   "cell_type": "code",
   "execution_count": 13,
   "metadata": {},
   "outputs": [
    {
     "data": {
      "text/plain": [
       "1"
      ]
     },
     "execution_count": 13,
     "metadata": {},
     "output_type": "execute_result"
    }
   ],
   "source": [
    "reveal_doors = [door for door in goat_doors if door != picked_door]\n",
    "if len(reveal_doors) == 2:\n",
    "    opened_door = np.random.choice(reveal_doors)\n",
    "else:\n",
    "    opened_door = reveal_doors[0]\n",
    "\n",
    "opened_door"
   ]
  },
  {
   "cell_type": "code",
   "execution_count": 14,
   "metadata": {},
   "outputs": [
    {
     "data": {
      "text/plain": [
       "[2, 3]"
      ]
     },
     "execution_count": 14,
     "metadata": {},
     "output_type": "execute_result"
    }
   ],
   "source": [
    "doors.remove(opened_door)\n",
    "doors"
   ]
  },
  {
   "cell_type": "code",
   "execution_count": 15,
   "metadata": {},
   "outputs": [
    {
     "name": "stdout",
     "output_type": "stream",
     "text": [
      "Please pick either the same door or switch to the other door: 2\n",
      "Here's a goat, try again later\n"
     ]
    }
   ],
   "source": [
    "new_choice = int(input('Please pick either the same door or switch to the other door: '))\n",
    "if new_choice == car_door:\n",
    "    print(f'Congrats you just won a {np.random.choice(car_list)}')\n",
    "else:\n",
    "    print(f\"Here's a goat, try again later\")"
   ]
  },
  {
   "cell_type": "code",
   "execution_count": null,
   "metadata": {},
   "outputs": [],
   "source": []
  },
  {
   "cell_type": "code",
   "execution_count": null,
   "metadata": {},
   "outputs": [],
   "source": []
  },
  {
   "cell_type": "code",
   "execution_count": null,
   "metadata": {},
   "outputs": [],
   "source": []
  },
  {
   "cell_type": "code",
   "execution_count": null,
   "metadata": {},
   "outputs": [],
   "source": []
  },
  {
   "cell_type": "code",
   "execution_count": null,
   "metadata": {},
   "outputs": [],
   "source": []
  },
  {
   "cell_type": "code",
   "execution_count": 6,
   "metadata": {},
   "outputs": [],
   "source": [
    "stay = []\n",
    "switch = []\n",
    "doors = [1,2,3]\n",
    "\n",
    "games = range(10**3)\n",
    "for game in games:\n",
    "\n",
    "    # randomly assign the Ferrari behind door 1,2, or 3\n",
    "    ferrari_door = np.random.randint(1,4)\n",
    "    \n",
    "    # random assign a guess for the contestant\n",
    "    contestant_guess = np.random.randint(1,4)\n",
    "    \n",
    "    # goat doors are the doors that are not hiding the Ferrari \n",
    "    goat_doors = [door for door in doors if door != ferrari_door]\n",
    "   \n",
    "    # host reveals a goat. Note, if the host has 2 doors to choose from,\n",
    "    # it is because the contestant_guess == ferrari_door\n",
    "    # If the host has only 1 door to choose from, then contestant_guess != ferrari_door\n",
    "    possible_reveal_doors = [door for door in goat_doors if door != contestant_guess]\n",
    "    if len(possible_reveal_doors) == 2:\n",
    "        reveal_door = np.random.choice(possible_reveal_doors)\n",
    "    else:\n",
    "        reveal_door = possible_reveal_doors[0]\n",
    "       \n",
    "    # Define the door that the contest would switch to\n",
    "    # We only care about the sole element of this list\n",
    "    switch_door = [door for door in doors if door != contestant_guess and door != reveal_door][0]\n",
    "\n",
    "    # Let's record the results of our model over 10^4 switching or staying outcomes\n",
    "    if ferrari_door == switch_door:\n",
    "        switch.append(1)\n",
    "        stay.append(0)\n",
    "    else:\n",
    "        switch.append(0)\n",
    "        stay.append(1)"
   ]
  },
  {
   "cell_type": "code",
   "execution_count": 7,
   "metadata": {},
   "outputs": [
    {
     "name": "stdout",
     "output_type": "stream",
     "text": [
      "Probability of winning if you don't switch: 0.337\n",
      "Probability of winning if you switch doors: 0.663\n"
     ]
    }
   ],
   "source": [
    "print(f'Probability of winning if you don\\'t switch: {np.mean(stay)}')\n",
    "print(f'Probability of winning if you switch doors: {np.mean(switch)}')"
   ]
  },
  {
   "cell_type": "code",
   "execution_count": 8,
   "metadata": {},
   "outputs": [
    {
     "data": {
      "image/png": "[encoded data removed]",
      "text/plain": [
       "<Figure size 720x576 with 1 Axes>"
      ]
     },
     "metadata": {},
     "output_type": "display_data"
    }
   ],
   "source": [
    "# Create figure and add subplot\n",
    "fig = plt.figure(figsize = (10,8));\n",
    "ax = fig.add_subplot(111);\n",
    "\n",
    "# Redefine environments and define winning % for each environments in environments\n",
    "games = range(1,10000)\n",
    "switch_probs = [np.mean(switch[:game]) for game in games]\n",
    "stay_probs = [np.mean(stay[:game]) for game in games]\n",
    "\n",
    "# Generate line graphs of win probabilites for each environment\n",
    "ax.plot(games, switch_probs, label=f\"Switch Avg: {np.mean(switch) : 0.2%}\");\n",
    "ax.plot(games, stay_probs, label=f\"Stay Avg: {np.mean(stay) : 0.2%}\");\n",
    "\n",
    "# Add labels\n",
    "ax.set_title(\"Winning Probabilities By Startegy (Switch vs. Stay)\", {'fontsize' :  16});\n",
    "ax.set_ylabel(\"Winning Probability\", {'fontsize' :  14});\n",
    "ax.set_xlabel(\"Random Game\", {'fontsize' :  14});\n",
    "\n",
    "# Add legend\n",
    "ax.legend(fontsize = 'large');"
   ]
  },
  {
   "cell_type": "markdown",
   "metadata": {},
   "source": [
    "* Code citation https://github.com/jprinfret/monty_hall_problem - Former Flatrion Grad"
   ]
  },
  {
   "cell_type": "code",
   "execution_count": 8,
   "metadata": {},
   "outputs": [],
   "source": [
    "car_list = ['Ferrari', 'Barbie SUV', 'Big Wheelz Trike', 'Hot Wheels Monster Truck', 'Porsche 911', 'Soccer Mom Van', 'Mid Life Crisis Convertible', 'Street Racer NSX', 'Just Side-car No Motorcycle', 'Cozy Coupe (Little Tikes)']"
   ]
  },
  {
   "cell_type": "code",
   "execution_count": null,
   "metadata": {},
   "outputs": [],
   "source": []
  }
 ],
 "metadata": {
  "kernelspec": {
   "display_name": "Python (learn-env)",
   "language": "python",
   "name": "learn-env"
  },
  "language_info": {
   "codemirror_mode": {
    "name": "ipython",
    "version": 3
   },
   "file_extension": ".py",
   "mimetype": "text/x-python",
   "name": "python",
   "nbconvert_exporter": "python",
   "pygments_lexer": "ipython3",
   "version": "3.8.5"
  }
 },
 "nbformat": 4,
 "nbformat_minor": 4
}
